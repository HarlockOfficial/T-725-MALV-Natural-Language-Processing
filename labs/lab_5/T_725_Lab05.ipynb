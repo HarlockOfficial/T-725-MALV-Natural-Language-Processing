{
  "nbformat": 4,
  "nbformat_minor": 0,
  "metadata": {
    "colab": {
      "provenance": []
    },
    "kernelspec": {
      "name": "python3",
      "language": "python",
      "display_name": "Python 3 (ipykernel)"
    },
    "accelerator": "GPU",
    "widgets": {
      "application/vnd.jupyter.widget-state+json": {
        "981cd09d5f444816ba9ad008640bc696": {
          "model_module": "@jupyter-widgets/controls",
          "model_name": "HBoxModel",
          "model_module_version": "1.5.0",
          "state": {
            "_dom_classes": [],
            "_model_module": "@jupyter-widgets/controls",
            "_model_module_version": "1.5.0",
            "_model_name": "HBoxModel",
            "_view_count": null,
            "_view_module": "@jupyter-widgets/controls",
            "_view_module_version": "1.5.0",
            "_view_name": "HBoxView",
            "box_style": "",
            "children": [
              "IPY_MODEL_1573ccd8aaa24beea9b2ab623176b476",
              "IPY_MODEL_7b52c972150b46eaa6590255849657d7",
              "IPY_MODEL_3c65dade99534eb7baf582f23688d274"
            ],
            "layout": "IPY_MODEL_086e81c8b76c4cd094cb50dfb8ab3f2e"
          }
        },
        "1573ccd8aaa24beea9b2ab623176b476": {
          "model_module": "@jupyter-widgets/controls",
          "model_name": "HTMLModel",
          "model_module_version": "1.5.0",
          "state": {
            "_dom_classes": [],
            "_model_module": "@jupyter-widgets/controls",
            "_model_module_version": "1.5.0",
            "_model_name": "HTMLModel",
            "_view_count": null,
            "_view_module": "@jupyter-widgets/controls",
            "_view_module_version": "1.5.0",
            "_view_name": "HTMLView",
            "description": "",
            "description_tooltip": null,
            "layout": "IPY_MODEL_5eab657a15464d9ab99805bd14c5418c",
            "placeholder": "​",
            "style": "IPY_MODEL_3f853a234bf943f8a1ea1a2a3f41a05a",
            "value": "Downloading (…)lve/main/config.json: 100%"
          }
        },
        "7b52c972150b46eaa6590255849657d7": {
          "model_module": "@jupyter-widgets/controls",
          "model_name": "FloatProgressModel",
          "model_module_version": "1.5.0",
          "state": {
            "_dom_classes": [],
            "_model_module": "@jupyter-widgets/controls",
            "_model_module_version": "1.5.0",
            "_model_name": "FloatProgressModel",
            "_view_count": null,
            "_view_module": "@jupyter-widgets/controls",
            "_view_module_version": "1.5.0",
            "_view_name": "ProgressView",
            "bar_style": "success",
            "description": "",
            "description_tooltip": null,
            "layout": "IPY_MODEL_fc00daee5a374a5ba648b26345f56085",
            "max": 665,
            "min": 0,
            "orientation": "horizontal",
            "style": "IPY_MODEL_8466a51cd1ba41abadf1b69505efa0e8",
            "value": 665
          }
        },
        "3c65dade99534eb7baf582f23688d274": {
          "model_module": "@jupyter-widgets/controls",
          "model_name": "HTMLModel",
          "model_module_version": "1.5.0",
          "state": {
            "_dom_classes": [],
            "_model_module": "@jupyter-widgets/controls",
            "_model_module_version": "1.5.0",
            "_model_name": "HTMLModel",
            "_view_count": null,
            "_view_module": "@jupyter-widgets/controls",
            "_view_module_version": "1.5.0",
            "_view_name": "HTMLView",
            "description": "",
            "description_tooltip": null,
            "layout": "IPY_MODEL_b7a82956954f49ea94b02e21742d061c",
            "placeholder": "​",
            "style": "IPY_MODEL_76e32be1ce06479381ba720e297cdbfd",
            "value": " 665/665 [00:00&lt;00:00, 16.0kB/s]"
          }
        },
        "086e81c8b76c4cd094cb50dfb8ab3f2e": {
          "model_module": "@jupyter-widgets/base",
          "model_name": "LayoutModel",
          "model_module_version": "1.2.0",
          "state": {
            "_model_module": "@jupyter-widgets/base",
            "_model_module_version": "1.2.0",
            "_model_name": "LayoutModel",
            "_view_count": null,
            "_view_module": "@jupyter-widgets/base",
            "_view_module_version": "1.2.0",
            "_view_name": "LayoutView",
            "align_content": null,
            "align_items": null,
            "align_self": null,
            "border": null,
            "bottom": null,
            "display": null,
            "flex": null,
            "flex_flow": null,
            "grid_area": null,
            "grid_auto_columns": null,
            "grid_auto_flow": null,
            "grid_auto_rows": null,
            "grid_column": null,
            "grid_gap": null,
            "grid_row": null,
            "grid_template_areas": null,
            "grid_template_columns": null,
            "grid_template_rows": null,
            "height": null,
            "justify_content": null,
            "justify_items": null,
            "left": null,
            "margin": null,
            "max_height": null,
            "max_width": null,
            "min_height": null,
            "min_width": null,
            "object_fit": null,
            "object_position": null,
            "order": null,
            "overflow": null,
            "overflow_x": null,
            "overflow_y": null,
            "padding": null,
            "right": null,
            "top": null,
            "visibility": null,
            "width": null
          }
        },
        "5eab657a15464d9ab99805bd14c5418c": {
          "model_module": "@jupyter-widgets/base",
          "model_name": "LayoutModel",
          "model_module_version": "1.2.0",
          "state": {
            "_model_module": "@jupyter-widgets/base",
            "_model_module_version": "1.2.0",
            "_model_name": "LayoutModel",
            "_view_count": null,
            "_view_module": "@jupyter-widgets/base",
            "_view_module_version": "1.2.0",
            "_view_name": "LayoutView",
            "align_content": null,
            "align_items": null,
            "align_self": null,
            "border": null,
            "bottom": null,
            "display": null,
            "flex": null,
            "flex_flow": null,
            "grid_area": null,
            "grid_auto_columns": null,
            "grid_auto_flow": null,
            "grid_auto_rows": null,
            "grid_column": null,
            "grid_gap": null,
            "grid_row": null,
            "grid_template_areas": null,
            "grid_template_columns": null,
            "grid_template_rows": null,
            "height": null,
            "justify_content": null,
            "justify_items": null,
            "left": null,
            "margin": null,
            "max_height": null,
            "max_width": null,
            "min_height": null,
            "min_width": null,
            "object_fit": null,
            "object_position": null,
            "order": null,
            "overflow": null,
            "overflow_x": null,
            "overflow_y": null,
            "padding": null,
            "right": null,
            "top": null,
            "visibility": null,
            "width": null
          }
        },
        "3f853a234bf943f8a1ea1a2a3f41a05a": {
          "model_module": "@jupyter-widgets/controls",
          "model_name": "DescriptionStyleModel",
          "model_module_version": "1.5.0",
          "state": {
            "_model_module": "@jupyter-widgets/controls",
            "_model_module_version": "1.5.0",
            "_model_name": "DescriptionStyleModel",
            "_view_count": null,
            "_view_module": "@jupyter-widgets/base",
            "_view_module_version": "1.2.0",
            "_view_name": "StyleView",
            "description_width": ""
          }
        },
        "fc00daee5a374a5ba648b26345f56085": {
          "model_module": "@jupyter-widgets/base",
          "model_name": "LayoutModel",
          "model_module_version": "1.2.0",
          "state": {
            "_model_module": "@jupyter-widgets/base",
            "_model_module_version": "1.2.0",
            "_model_name": "LayoutModel",
            "_view_count": null,
            "_view_module": "@jupyter-widgets/base",
            "_view_module_version": "1.2.0",
            "_view_name": "LayoutView",
            "align_content": null,
            "align_items": null,
            "align_self": null,
            "border": null,
            "bottom": null,
            "display": null,
            "flex": null,
            "flex_flow": null,
            "grid_area": null,
            "grid_auto_columns": null,
            "grid_auto_flow": null,
            "grid_auto_rows": null,
            "grid_column": null,
            "grid_gap": null,
            "grid_row": null,
            "grid_template_areas": null,
            "grid_template_columns": null,
            "grid_template_rows": null,
            "height": null,
            "justify_content": null,
            "justify_items": null,
            "left": null,
            "margin": null,
            "max_height": null,
            "max_width": null,
            "min_height": null,
            "min_width": null,
            "object_fit": null,
            "object_position": null,
            "order": null,
            "overflow": null,
            "overflow_x": null,
            "overflow_y": null,
            "padding": null,
            "right": null,
            "top": null,
            "visibility": null,
            "width": null
          }
        },
        "8466a51cd1ba41abadf1b69505efa0e8": {
          "model_module": "@jupyter-widgets/controls",
          "model_name": "ProgressStyleModel",
          "model_module_version": "1.5.0",
          "state": {
            "_model_module": "@jupyter-widgets/controls",
            "_model_module_version": "1.5.0",
            "_model_name": "ProgressStyleModel",
            "_view_count": null,
            "_view_module": "@jupyter-widgets/base",
            "_view_module_version": "1.2.0",
            "_view_name": "StyleView",
            "bar_color": null,
            "description_width": ""
          }
        },
        "b7a82956954f49ea94b02e21742d061c": {
          "model_module": "@jupyter-widgets/base",
          "model_name": "LayoutModel",
          "model_module_version": "1.2.0",
          "state": {
            "_model_module": "@jupyter-widgets/base",
            "_model_module_version": "1.2.0",
            "_model_name": "LayoutModel",
            "_view_count": null,
            "_view_module": "@jupyter-widgets/base",
            "_view_module_version": "1.2.0",
            "_view_name": "LayoutView",
            "align_content": null,
            "align_items": null,
            "align_self": null,
            "border": null,
            "bottom": null,
            "display": null,
            "flex": null,
            "flex_flow": null,
            "grid_area": null,
            "grid_auto_columns": null,
            "grid_auto_flow": null,
            "grid_auto_rows": null,
            "grid_column": null,
            "grid_gap": null,
            "grid_row": null,
            "grid_template_areas": null,
            "grid_template_columns": null,
            "grid_template_rows": null,
            "height": null,
            "justify_content": null,
            "justify_items": null,
            "left": null,
            "margin": null,
            "max_height": null,
            "max_width": null,
            "min_height": null,
            "min_width": null,
            "object_fit": null,
            "object_position": null,
            "order": null,
            "overflow": null,
            "overflow_x": null,
            "overflow_y": null,
            "padding": null,
            "right": null,
            "top": null,
            "visibility": null,
            "width": null
          }
        },
        "76e32be1ce06479381ba720e297cdbfd": {
          "model_module": "@jupyter-widgets/controls",
          "model_name": "DescriptionStyleModel",
          "model_module_version": "1.5.0",
          "state": {
            "_model_module": "@jupyter-widgets/controls",
            "_model_module_version": "1.5.0",
            "_model_name": "DescriptionStyleModel",
            "_view_count": null,
            "_view_module": "@jupyter-widgets/base",
            "_view_module_version": "1.2.0",
            "_view_name": "StyleView",
            "description_width": ""
          }
        },
        "a9c556ffb2de448f8a845b38ecfdd162": {
          "model_module": "@jupyter-widgets/controls",
          "model_name": "HBoxModel",
          "model_module_version": "1.5.0",
          "state": {
            "_dom_classes": [],
            "_model_module": "@jupyter-widgets/controls",
            "_model_module_version": "1.5.0",
            "_model_name": "HBoxModel",
            "_view_count": null,
            "_view_module": "@jupyter-widgets/controls",
            "_view_module_version": "1.5.0",
            "_view_name": "HBoxView",
            "box_style": "",
            "children": [
              "IPY_MODEL_62796910d5b44d979306bee2869a9818",
              "IPY_MODEL_c02af60dc75d4bee8a9a5ed478711511",
              "IPY_MODEL_76b61615f4c44b03a8dd4f120413aaca"
            ],
            "layout": "IPY_MODEL_3e385869a4c84577a2e7439a2b7aa70c"
          }
        },
        "62796910d5b44d979306bee2869a9818": {
          "model_module": "@jupyter-widgets/controls",
          "model_name": "HTMLModel",
          "model_module_version": "1.5.0",
          "state": {
            "_dom_classes": [],
            "_model_module": "@jupyter-widgets/controls",
            "_model_module_version": "1.5.0",
            "_model_name": "HTMLModel",
            "_view_count": null,
            "_view_module": "@jupyter-widgets/controls",
            "_view_module_version": "1.5.0",
            "_view_name": "HTMLView",
            "description": "",
            "description_tooltip": null,
            "layout": "IPY_MODEL_b72548b9d9174e9987a4fc9dd5ec3673",
            "placeholder": "​",
            "style": "IPY_MODEL_877ef92aa91d4dee8e1c4dc516e1c16c",
            "value": "Downloading (…)olve/main/vocab.json: 100%"
          }
        },
        "c02af60dc75d4bee8a9a5ed478711511": {
          "model_module": "@jupyter-widgets/controls",
          "model_name": "FloatProgressModel",
          "model_module_version": "1.5.0",
          "state": {
            "_dom_classes": [],
            "_model_module": "@jupyter-widgets/controls",
            "_model_module_version": "1.5.0",
            "_model_name": "FloatProgressModel",
            "_view_count": null,
            "_view_module": "@jupyter-widgets/controls",
            "_view_module_version": "1.5.0",
            "_view_name": "ProgressView",
            "bar_style": "success",
            "description": "",
            "description_tooltip": null,
            "layout": "IPY_MODEL_42c9e75672a440539b6ebbe201e65ba1",
            "max": 1042301,
            "min": 0,
            "orientation": "horizontal",
            "style": "IPY_MODEL_230118f5b86245529abcf1fc1104da11",
            "value": 1042301
          }
        },
        "76b61615f4c44b03a8dd4f120413aaca": {
          "model_module": "@jupyter-widgets/controls",
          "model_name": "HTMLModel",
          "model_module_version": "1.5.0",
          "state": {
            "_dom_classes": [],
            "_model_module": "@jupyter-widgets/controls",
            "_model_module_version": "1.5.0",
            "_model_name": "HTMLModel",
            "_view_count": null,
            "_view_module": "@jupyter-widgets/controls",
            "_view_module_version": "1.5.0",
            "_view_name": "HTMLView",
            "description": "",
            "description_tooltip": null,
            "layout": "IPY_MODEL_ff3cbce0bf254a6ba95aa95611ba3a19",
            "placeholder": "​",
            "style": "IPY_MODEL_7751d9745ddb437a9988d2fc9b04079a",
            "value": " 1.04M/1.04M [00:00&lt;00:00, 7.90MB/s]"
          }
        },
        "3e385869a4c84577a2e7439a2b7aa70c": {
          "model_module": "@jupyter-widgets/base",
          "model_name": "LayoutModel",
          "model_module_version": "1.2.0",
          "state": {
            "_model_module": "@jupyter-widgets/base",
            "_model_module_version": "1.2.0",
            "_model_name": "LayoutModel",
            "_view_count": null,
            "_view_module": "@jupyter-widgets/base",
            "_view_module_version": "1.2.0",
            "_view_name": "LayoutView",
            "align_content": null,
            "align_items": null,
            "align_self": null,
            "border": null,
            "bottom": null,
            "display": null,
            "flex": null,
            "flex_flow": null,
            "grid_area": null,
            "grid_auto_columns": null,
            "grid_auto_flow": null,
            "grid_auto_rows": null,
            "grid_column": null,
            "grid_gap": null,
            "grid_row": null,
            "grid_template_areas": null,
            "grid_template_columns": null,
            "grid_template_rows": null,
            "height": null,
            "justify_content": null,
            "justify_items": null,
            "left": null,
            "margin": null,
            "max_height": null,
            "max_width": null,
            "min_height": null,
            "min_width": null,
            "object_fit": null,
            "object_position": null,
            "order": null,
            "overflow": null,
            "overflow_x": null,
            "overflow_y": null,
            "padding": null,
            "right": null,
            "top": null,
            "visibility": null,
            "width": null
          }
        },
        "b72548b9d9174e9987a4fc9dd5ec3673": {
          "model_module": "@jupyter-widgets/base",
          "model_name": "LayoutModel",
          "model_module_version": "1.2.0",
          "state": {
            "_model_module": "@jupyter-widgets/base",
            "_model_module_version": "1.2.0",
            "_model_name": "LayoutModel",
            "_view_count": null,
            "_view_module": "@jupyter-widgets/base",
            "_view_module_version": "1.2.0",
            "_view_name": "LayoutView",
            "align_content": null,
            "align_items": null,
            "align_self": null,
            "border": null,
            "bottom": null,
            "display": null,
            "flex": null,
            "flex_flow": null,
            "grid_area": null,
            "grid_auto_columns": null,
            "grid_auto_flow": null,
            "grid_auto_rows": null,
            "grid_column": null,
            "grid_gap": null,
            "grid_row": null,
            "grid_template_areas": null,
            "grid_template_columns": null,
            "grid_template_rows": null,
            "height": null,
            "justify_content": null,
            "justify_items": null,
            "left": null,
            "margin": null,
            "max_height": null,
            "max_width": null,
            "min_height": null,
            "min_width": null,
            "object_fit": null,
            "object_position": null,
            "order": null,
            "overflow": null,
            "overflow_x": null,
            "overflow_y": null,
            "padding": null,
            "right": null,
            "top": null,
            "visibility": null,
            "width": null
          }
        },
        "877ef92aa91d4dee8e1c4dc516e1c16c": {
          "model_module": "@jupyter-widgets/controls",
          "model_name": "DescriptionStyleModel",
          "model_module_version": "1.5.0",
          "state": {
            "_model_module": "@jupyter-widgets/controls",
            "_model_module_version": "1.5.0",
            "_model_name": "DescriptionStyleModel",
            "_view_count": null,
            "_view_module": "@jupyter-widgets/base",
            "_view_module_version": "1.2.0",
            "_view_name": "StyleView",
            "description_width": ""
          }
        },
        "42c9e75672a440539b6ebbe201e65ba1": {
          "model_module": "@jupyter-widgets/base",
          "model_name": "LayoutModel",
          "model_module_version": "1.2.0",
          "state": {
            "_model_module": "@jupyter-widgets/base",
            "_model_module_version": "1.2.0",
            "_model_name": "LayoutModel",
            "_view_count": null,
            "_view_module": "@jupyter-widgets/base",
            "_view_module_version": "1.2.0",
            "_view_name": "LayoutView",
            "align_content": null,
            "align_items": null,
            "align_self": null,
            "border": null,
            "bottom": null,
            "display": null,
            "flex": null,
            "flex_flow": null,
            "grid_area": null,
            "grid_auto_columns": null,
            "grid_auto_flow": null,
            "grid_auto_rows": null,
            "grid_column": null,
            "grid_gap": null,
            "grid_row": null,
            "grid_template_areas": null,
            "grid_template_columns": null,
            "grid_template_rows": null,
            "height": null,
            "justify_content": null,
            "justify_items": null,
            "left": null,
            "margin": null,
            "max_height": null,
            "max_width": null,
            "min_height": null,
            "min_width": null,
            "object_fit": null,
            "object_position": null,
            "order": null,
            "overflow": null,
            "overflow_x": null,
            "overflow_y": null,
            "padding": null,
            "right": null,
            "top": null,
            "visibility": null,
            "width": null
          }
        },
        "230118f5b86245529abcf1fc1104da11": {
          "model_module": "@jupyter-widgets/controls",
          "model_name": "ProgressStyleModel",
          "model_module_version": "1.5.0",
          "state": {
            "_model_module": "@jupyter-widgets/controls",
            "_model_module_version": "1.5.0",
            "_model_name": "ProgressStyleModel",
            "_view_count": null,
            "_view_module": "@jupyter-widgets/base",
            "_view_module_version": "1.2.0",
            "_view_name": "StyleView",
            "bar_color": null,
            "description_width": ""
          }
        },
        "ff3cbce0bf254a6ba95aa95611ba3a19": {
          "model_module": "@jupyter-widgets/base",
          "model_name": "LayoutModel",
          "model_module_version": "1.2.0",
          "state": {
            "_model_module": "@jupyter-widgets/base",
            "_model_module_version": "1.2.0",
            "_model_name": "LayoutModel",
            "_view_count": null,
            "_view_module": "@jupyter-widgets/base",
            "_view_module_version": "1.2.0",
            "_view_name": "LayoutView",
            "align_content": null,
            "align_items": null,
            "align_self": null,
            "border": null,
            "bottom": null,
            "display": null,
            "flex": null,
            "flex_flow": null,
            "grid_area": null,
            "grid_auto_columns": null,
            "grid_auto_flow": null,
            "grid_auto_rows": null,
            "grid_column": null,
            "grid_gap": null,
            "grid_row": null,
            "grid_template_areas": null,
            "grid_template_columns": null,
            "grid_template_rows": null,
            "height": null,
            "justify_content": null,
            "justify_items": null,
            "left": null,
            "margin": null,
            "max_height": null,
            "max_width": null,
            "min_height": null,
            "min_width": null,
            "object_fit": null,
            "object_position": null,
            "order": null,
            "overflow": null,
            "overflow_x": null,
            "overflow_y": null,
            "padding": null,
            "right": null,
            "top": null,
            "visibility": null,
            "width": null
          }
        },
        "7751d9745ddb437a9988d2fc9b04079a": {
          "model_module": "@jupyter-widgets/controls",
          "model_name": "DescriptionStyleModel",
          "model_module_version": "1.5.0",
          "state": {
            "_model_module": "@jupyter-widgets/controls",
            "_model_module_version": "1.5.0",
            "_model_name": "DescriptionStyleModel",
            "_view_count": null,
            "_view_module": "@jupyter-widgets/base",
            "_view_module_version": "1.2.0",
            "_view_name": "StyleView",
            "description_width": ""
          }
        },
        "4d583b22e8d34989a717dd9ed9984df4": {
          "model_module": "@jupyter-widgets/controls",
          "model_name": "HBoxModel",
          "model_module_version": "1.5.0",
          "state": {
            "_dom_classes": [],
            "_model_module": "@jupyter-widgets/controls",
            "_model_module_version": "1.5.0",
            "_model_name": "HBoxModel",
            "_view_count": null,
            "_view_module": "@jupyter-widgets/controls",
            "_view_module_version": "1.5.0",
            "_view_name": "HBoxView",
            "box_style": "",
            "children": [
              "IPY_MODEL_e5a29b46926646829cac3a47aef8aa66",
              "IPY_MODEL_c382c39cfb31465a9ec2596ec12da4d5",
              "IPY_MODEL_6001721e499d40af83812fd9b28fac40"
            ],
            "layout": "IPY_MODEL_876a3664fdc74b61b9ac0413b36d782d"
          }
        },
        "e5a29b46926646829cac3a47aef8aa66": {
          "model_module": "@jupyter-widgets/controls",
          "model_name": "HTMLModel",
          "model_module_version": "1.5.0",
          "state": {
            "_dom_classes": [],
            "_model_module": "@jupyter-widgets/controls",
            "_model_module_version": "1.5.0",
            "_model_name": "HTMLModel",
            "_view_count": null,
            "_view_module": "@jupyter-widgets/controls",
            "_view_module_version": "1.5.0",
            "_view_name": "HTMLView",
            "description": "",
            "description_tooltip": null,
            "layout": "IPY_MODEL_7751ec84755b4a4b92e2e57a8f1f590e",
            "placeholder": "​",
            "style": "IPY_MODEL_e9039fbd9f0d4759ba8999e8597ffacb",
            "value": "Downloading (…)olve/main/merges.txt: 100%"
          }
        },
        "c382c39cfb31465a9ec2596ec12da4d5": {
          "model_module": "@jupyter-widgets/controls",
          "model_name": "FloatProgressModel",
          "model_module_version": "1.5.0",
          "state": {
            "_dom_classes": [],
            "_model_module": "@jupyter-widgets/controls",
            "_model_module_version": "1.5.0",
            "_model_name": "FloatProgressModel",
            "_view_count": null,
            "_view_module": "@jupyter-widgets/controls",
            "_view_module_version": "1.5.0",
            "_view_name": "ProgressView",
            "bar_style": "success",
            "description": "",
            "description_tooltip": null,
            "layout": "IPY_MODEL_0a0b08cbba654294ae045dee3ebda594",
            "max": 456318,
            "min": 0,
            "orientation": "horizontal",
            "style": "IPY_MODEL_9e949195bf7d425c913d8b5b37a00718",
            "value": 456318
          }
        },
        "6001721e499d40af83812fd9b28fac40": {
          "model_module": "@jupyter-widgets/controls",
          "model_name": "HTMLModel",
          "model_module_version": "1.5.0",
          "state": {
            "_dom_classes": [],
            "_model_module": "@jupyter-widgets/controls",
            "_model_module_version": "1.5.0",
            "_model_name": "HTMLModel",
            "_view_count": null,
            "_view_module": "@jupyter-widgets/controls",
            "_view_module_version": "1.5.0",
            "_view_name": "HTMLView",
            "description": "",
            "description_tooltip": null,
            "layout": "IPY_MODEL_ccd478d8db734886a2835337b5ebf491",
            "placeholder": "​",
            "style": "IPY_MODEL_cfe4ae5677c44be694c9d2002364a557",
            "value": " 456k/456k [00:00&lt;00:00, 22.7MB/s]"
          }
        },
        "876a3664fdc74b61b9ac0413b36d782d": {
          "model_module": "@jupyter-widgets/base",
          "model_name": "LayoutModel",
          "model_module_version": "1.2.0",
          "state": {
            "_model_module": "@jupyter-widgets/base",
            "_model_module_version": "1.2.0",
            "_model_name": "LayoutModel",
            "_view_count": null,
            "_view_module": "@jupyter-widgets/base",
            "_view_module_version": "1.2.0",
            "_view_name": "LayoutView",
            "align_content": null,
            "align_items": null,
            "align_self": null,
            "border": null,
            "bottom": null,
            "display": null,
            "flex": null,
            "flex_flow": null,
            "grid_area": null,
            "grid_auto_columns": null,
            "grid_auto_flow": null,
            "grid_auto_rows": null,
            "grid_column": null,
            "grid_gap": null,
            "grid_row": null,
            "grid_template_areas": null,
            "grid_template_columns": null,
            "grid_template_rows": null,
            "height": null,
            "justify_content": null,
            "justify_items": null,
            "left": null,
            "margin": null,
            "max_height": null,
            "max_width": null,
            "min_height": null,
            "min_width": null,
            "object_fit": null,
            "object_position": null,
            "order": null,
            "overflow": null,
            "overflow_x": null,
            "overflow_y": null,
            "padding": null,
            "right": null,
            "top": null,
            "visibility": null,
            "width": null
          }
        },
        "7751ec84755b4a4b92e2e57a8f1f590e": {
          "model_module": "@jupyter-widgets/base",
          "model_name": "LayoutModel",
          "model_module_version": "1.2.0",
          "state": {
            "_model_module": "@jupyter-widgets/base",
            "_model_module_version": "1.2.0",
            "_model_name": "LayoutModel",
            "_view_count": null,
            "_view_module": "@jupyter-widgets/base",
            "_view_module_version": "1.2.0",
            "_view_name": "LayoutView",
            "align_content": null,
            "align_items": null,
            "align_self": null,
            "border": null,
            "bottom": null,
            "display": null,
            "flex": null,
            "flex_flow": null,
            "grid_area": null,
            "grid_auto_columns": null,
            "grid_auto_flow": null,
            "grid_auto_rows": null,
            "grid_column": null,
            "grid_gap": null,
            "grid_row": null,
            "grid_template_areas": null,
            "grid_template_columns": null,
            "grid_template_rows": null,
            "height": null,
            "justify_content": null,
            "justify_items": null,
            "left": null,
            "margin": null,
            "max_height": null,
            "max_width": null,
            "min_height": null,
            "min_width": null,
            "object_fit": null,
            "object_position": null,
            "order": null,
            "overflow": null,
            "overflow_x": null,
            "overflow_y": null,
            "padding": null,
            "right": null,
            "top": null,
            "visibility": null,
            "width": null
          }
        },
        "e9039fbd9f0d4759ba8999e8597ffacb": {
          "model_module": "@jupyter-widgets/controls",
          "model_name": "DescriptionStyleModel",
          "model_module_version": "1.5.0",
          "state": {
            "_model_module": "@jupyter-widgets/controls",
            "_model_module_version": "1.5.0",
            "_model_name": "DescriptionStyleModel",
            "_view_count": null,
            "_view_module": "@jupyter-widgets/base",
            "_view_module_version": "1.2.0",
            "_view_name": "StyleView",
            "description_width": ""
          }
        },
        "0a0b08cbba654294ae045dee3ebda594": {
          "model_module": "@jupyter-widgets/base",
          "model_name": "LayoutModel",
          "model_module_version": "1.2.0",
          "state": {
            "_model_module": "@jupyter-widgets/base",
            "_model_module_version": "1.2.0",
            "_model_name": "LayoutModel",
            "_view_count": null,
            "_view_module": "@jupyter-widgets/base",
            "_view_module_version": "1.2.0",
            "_view_name": "LayoutView",
            "align_content": null,
            "align_items": null,
            "align_self": null,
            "border": null,
            "bottom": null,
            "display": null,
            "flex": null,
            "flex_flow": null,
            "grid_area": null,
            "grid_auto_columns": null,
            "grid_auto_flow": null,
            "grid_auto_rows": null,
            "grid_column": null,
            "grid_gap": null,
            "grid_row": null,
            "grid_template_areas": null,
            "grid_template_columns": null,
            "grid_template_rows": null,
            "height": null,
            "justify_content": null,
            "justify_items": null,
            "left": null,
            "margin": null,
            "max_height": null,
            "max_width": null,
            "min_height": null,
            "min_width": null,
            "object_fit": null,
            "object_position": null,
            "order": null,
            "overflow": null,
            "overflow_x": null,
            "overflow_y": null,
            "padding": null,
            "right": null,
            "top": null,
            "visibility": null,
            "width": null
          }
        },
        "9e949195bf7d425c913d8b5b37a00718": {
          "model_module": "@jupyter-widgets/controls",
          "model_name": "ProgressStyleModel",
          "model_module_version": "1.5.0",
          "state": {
            "_model_module": "@jupyter-widgets/controls",
            "_model_module_version": "1.5.0",
            "_model_name": "ProgressStyleModel",
            "_view_count": null,
            "_view_module": "@jupyter-widgets/base",
            "_view_module_version": "1.2.0",
            "_view_name": "StyleView",
            "bar_color": null,
            "description_width": ""
          }
        },
        "ccd478d8db734886a2835337b5ebf491": {
          "model_module": "@jupyter-widgets/base",
          "model_name": "LayoutModel",
          "model_module_version": "1.2.0",
          "state": {
            "_model_module": "@jupyter-widgets/base",
            "_model_module_version": "1.2.0",
            "_model_name": "LayoutModel",
            "_view_count": null,
            "_view_module": "@jupyter-widgets/base",
            "_view_module_version": "1.2.0",
            "_view_name": "LayoutView",
            "align_content": null,
            "align_items": null,
            "align_self": null,
            "border": null,
            "bottom": null,
            "display": null,
            "flex": null,
            "flex_flow": null,
            "grid_area": null,
            "grid_auto_columns": null,
            "grid_auto_flow": null,
            "grid_auto_rows": null,
            "grid_column": null,
            "grid_gap": null,
            "grid_row": null,
            "grid_template_areas": null,
            "grid_template_columns": null,
            "grid_template_rows": null,
            "height": null,
            "justify_content": null,
            "justify_items": null,
            "left": null,
            "margin": null,
            "max_height": null,
            "max_width": null,
            "min_height": null,
            "min_width": null,
            "object_fit": null,
            "object_position": null,
            "order": null,
            "overflow": null,
            "overflow_x": null,
            "overflow_y": null,
            "padding": null,
            "right": null,
            "top": null,
            "visibility": null,
            "width": null
          }
        },
        "cfe4ae5677c44be694c9d2002364a557": {
          "model_module": "@jupyter-widgets/controls",
          "model_name": "DescriptionStyleModel",
          "model_module_version": "1.5.0",
          "state": {
            "_model_module": "@jupyter-widgets/controls",
            "_model_module_version": "1.5.0",
            "_model_name": "DescriptionStyleModel",
            "_view_count": null,
            "_view_module": "@jupyter-widgets/base",
            "_view_module_version": "1.2.0",
            "_view_name": "StyleView",
            "description_width": ""
          }
        },
        "76b2bd6522974cfd8deb763ff132e6a5": {
          "model_module": "@jupyter-widgets/controls",
          "model_name": "HBoxModel",
          "model_module_version": "1.5.0",
          "state": {
            "_dom_classes": [],
            "_model_module": "@jupyter-widgets/controls",
            "_model_module_version": "1.5.0",
            "_model_name": "HBoxModel",
            "_view_count": null,
            "_view_module": "@jupyter-widgets/controls",
            "_view_module_version": "1.5.0",
            "_view_name": "HBoxView",
            "box_style": "",
            "children": [
              "IPY_MODEL_a34ec860842b400a99ccc6e870ace38b",
              "IPY_MODEL_260952962fa542a5af2db7476139eaf1",
              "IPY_MODEL_539686ce72ac40cba9f86b361fa90b66"
            ],
            "layout": "IPY_MODEL_cbab74e8f9a8452583f868e4ae920724"
          }
        },
        "a34ec860842b400a99ccc6e870ace38b": {
          "model_module": "@jupyter-widgets/controls",
          "model_name": "HTMLModel",
          "model_module_version": "1.5.0",
          "state": {
            "_dom_classes": [],
            "_model_module": "@jupyter-widgets/controls",
            "_model_module_version": "1.5.0",
            "_model_name": "HTMLModel",
            "_view_count": null,
            "_view_module": "@jupyter-widgets/controls",
            "_view_module_version": "1.5.0",
            "_view_name": "HTMLView",
            "description": "",
            "description_tooltip": null,
            "layout": "IPY_MODEL_26e2f6faf99c494eb85bb559b368ce61",
            "placeholder": "​",
            "style": "IPY_MODEL_be53158346dc40debbb8eec2336e16b3",
            "value": "Downloading (…)/main/tokenizer.json: 100%"
          }
        },
        "260952962fa542a5af2db7476139eaf1": {
          "model_module": "@jupyter-widgets/controls",
          "model_name": "FloatProgressModel",
          "model_module_version": "1.5.0",
          "state": {
            "_dom_classes": [],
            "_model_module": "@jupyter-widgets/controls",
            "_model_module_version": "1.5.0",
            "_model_name": "FloatProgressModel",
            "_view_count": null,
            "_view_module": "@jupyter-widgets/controls",
            "_view_module_version": "1.5.0",
            "_view_name": "ProgressView",
            "bar_style": "success",
            "description": "",
            "description_tooltip": null,
            "layout": "IPY_MODEL_697c33433691422aaccd1ae5941c9b39",
            "max": 1355256,
            "min": 0,
            "orientation": "horizontal",
            "style": "IPY_MODEL_19d3d7ee762546f08984c0627671ae6c",
            "value": 1355256
          }
        },
        "539686ce72ac40cba9f86b361fa90b66": {
          "model_module": "@jupyter-widgets/controls",
          "model_name": "HTMLModel",
          "model_module_version": "1.5.0",
          "state": {
            "_dom_classes": [],
            "_model_module": "@jupyter-widgets/controls",
            "_model_module_version": "1.5.0",
            "_model_name": "HTMLModel",
            "_view_count": null,
            "_view_module": "@jupyter-widgets/controls",
            "_view_module_version": "1.5.0",
            "_view_name": "HTMLView",
            "description": "",
            "description_tooltip": null,
            "layout": "IPY_MODEL_df7465f5400143c4845e12efa57f59a4",
            "placeholder": "​",
            "style": "IPY_MODEL_ec75e96c5a6c44e19131b8f3f7221484",
            "value": " 1.36M/1.36M [00:00&lt;00:00, 20.5MB/s]"
          }
        },
        "cbab74e8f9a8452583f868e4ae920724": {
          "model_module": "@jupyter-widgets/base",
          "model_name": "LayoutModel",
          "model_module_version": "1.2.0",
          "state": {
            "_model_module": "@jupyter-widgets/base",
            "_model_module_version": "1.2.0",
            "_model_name": "LayoutModel",
            "_view_count": null,
            "_view_module": "@jupyter-widgets/base",
            "_view_module_version": "1.2.0",
            "_view_name": "LayoutView",
            "align_content": null,
            "align_items": null,
            "align_self": null,
            "border": null,
            "bottom": null,
            "display": null,
            "flex": null,
            "flex_flow": null,
            "grid_area": null,
            "grid_auto_columns": null,
            "grid_auto_flow": null,
            "grid_auto_rows": null,
            "grid_column": null,
            "grid_gap": null,
            "grid_row": null,
            "grid_template_areas": null,
            "grid_template_columns": null,
            "grid_template_rows": null,
            "height": null,
            "justify_content": null,
            "justify_items": null,
            "left": null,
            "margin": null,
            "max_height": null,
            "max_width": null,
            "min_height": null,
            "min_width": null,
            "object_fit": null,
            "object_position": null,
            "order": null,
            "overflow": null,
            "overflow_x": null,
            "overflow_y": null,
            "padding": null,
            "right": null,
            "top": null,
            "visibility": null,
            "width": null
          }
        },
        "26e2f6faf99c494eb85bb559b368ce61": {
          "model_module": "@jupyter-widgets/base",
          "model_name": "LayoutModel",
          "model_module_version": "1.2.0",
          "state": {
            "_model_module": "@jupyter-widgets/base",
            "_model_module_version": "1.2.0",
            "_model_name": "LayoutModel",
            "_view_count": null,
            "_view_module": "@jupyter-widgets/base",
            "_view_module_version": "1.2.0",
            "_view_name": "LayoutView",
            "align_content": null,
            "align_items": null,
            "align_self": null,
            "border": null,
            "bottom": null,
            "display": null,
            "flex": null,
            "flex_flow": null,
            "grid_area": null,
            "grid_auto_columns": null,
            "grid_auto_flow": null,
            "grid_auto_rows": null,
            "grid_column": null,
            "grid_gap": null,
            "grid_row": null,
            "grid_template_areas": null,
            "grid_template_columns": null,
            "grid_template_rows": null,
            "height": null,
            "justify_content": null,
            "justify_items": null,
            "left": null,
            "margin": null,
            "max_height": null,
            "max_width": null,
            "min_height": null,
            "min_width": null,
            "object_fit": null,
            "object_position": null,
            "order": null,
            "overflow": null,
            "overflow_x": null,
            "overflow_y": null,
            "padding": null,
            "right": null,
            "top": null,
            "visibility": null,
            "width": null
          }
        },
        "be53158346dc40debbb8eec2336e16b3": {
          "model_module": "@jupyter-widgets/controls",
          "model_name": "DescriptionStyleModel",
          "model_module_version": "1.5.0",
          "state": {
            "_model_module": "@jupyter-widgets/controls",
            "_model_module_version": "1.5.0",
            "_model_name": "DescriptionStyleModel",
            "_view_count": null,
            "_view_module": "@jupyter-widgets/base",
            "_view_module_version": "1.2.0",
            "_view_name": "StyleView",
            "description_width": ""
          }
        },
        "697c33433691422aaccd1ae5941c9b39": {
          "model_module": "@jupyter-widgets/base",
          "model_name": "LayoutModel",
          "model_module_version": "1.2.0",
          "state": {
            "_model_module": "@jupyter-widgets/base",
            "_model_module_version": "1.2.0",
            "_model_name": "LayoutModel",
            "_view_count": null,
            "_view_module": "@jupyter-widgets/base",
            "_view_module_version": "1.2.0",
            "_view_name": "LayoutView",
            "align_content": null,
            "align_items": null,
            "align_self": null,
            "border": null,
            "bottom": null,
            "display": null,
            "flex": null,
            "flex_flow": null,
            "grid_area": null,
            "grid_auto_columns": null,
            "grid_auto_flow": null,
            "grid_auto_rows": null,
            "grid_column": null,
            "grid_gap": null,
            "grid_row": null,
            "grid_template_areas": null,
            "grid_template_columns": null,
            "grid_template_rows": null,
            "height": null,
            "justify_content": null,
            "justify_items": null,
            "left": null,
            "margin": null,
            "max_height": null,
            "max_width": null,
            "min_height": null,
            "min_width": null,
            "object_fit": null,
            "object_position": null,
            "order": null,
            "overflow": null,
            "overflow_x": null,
            "overflow_y": null,
            "padding": null,
            "right": null,
            "top": null,
            "visibility": null,
            "width": null
          }
        },
        "19d3d7ee762546f08984c0627671ae6c": {
          "model_module": "@jupyter-widgets/controls",
          "model_name": "ProgressStyleModel",
          "model_module_version": "1.5.0",
          "state": {
            "_model_module": "@jupyter-widgets/controls",
            "_model_module_version": "1.5.0",
            "_model_name": "ProgressStyleModel",
            "_view_count": null,
            "_view_module": "@jupyter-widgets/base",
            "_view_module_version": "1.2.0",
            "_view_name": "StyleView",
            "bar_color": null,
            "description_width": ""
          }
        },
        "df7465f5400143c4845e12efa57f59a4": {
          "model_module": "@jupyter-widgets/base",
          "model_name": "LayoutModel",
          "model_module_version": "1.2.0",
          "state": {
            "_model_module": "@jupyter-widgets/base",
            "_model_module_version": "1.2.0",
            "_model_name": "LayoutModel",
            "_view_count": null,
            "_view_module": "@jupyter-widgets/base",
            "_view_module_version": "1.2.0",
            "_view_name": "LayoutView",
            "align_content": null,
            "align_items": null,
            "align_self": null,
            "border": null,
            "bottom": null,
            "display": null,
            "flex": null,
            "flex_flow": null,
            "grid_area": null,
            "grid_auto_columns": null,
            "grid_auto_flow": null,
            "grid_auto_rows": null,
            "grid_column": null,
            "grid_gap": null,
            "grid_row": null,
            "grid_template_areas": null,
            "grid_template_columns": null,
            "grid_template_rows": null,
            "height": null,
            "justify_content": null,
            "justify_items": null,
            "left": null,
            "margin": null,
            "max_height": null,
            "max_width": null,
            "min_height": null,
            "min_width": null,
            "object_fit": null,
            "object_position": null,
            "order": null,
            "overflow": null,
            "overflow_x": null,
            "overflow_y": null,
            "padding": null,
            "right": null,
            "top": null,
            "visibility": null,
            "width": null
          }
        },
        "ec75e96c5a6c44e19131b8f3f7221484": {
          "model_module": "@jupyter-widgets/controls",
          "model_name": "DescriptionStyleModel",
          "model_module_version": "1.5.0",
          "state": {
            "_model_module": "@jupyter-widgets/controls",
            "_model_module_version": "1.5.0",
            "_model_name": "DescriptionStyleModel",
            "_view_count": null,
            "_view_module": "@jupyter-widgets/base",
            "_view_module_version": "1.2.0",
            "_view_name": "StyleView",
            "description_width": ""
          }
        },
        "ef7a65e127354494afad1af30b98f391": {
          "model_module": "@jupyter-widgets/controls",
          "model_name": "HBoxModel",
          "model_module_version": "1.5.0",
          "state": {
            "_dom_classes": [],
            "_model_module": "@jupyter-widgets/controls",
            "_model_module_version": "1.5.0",
            "_model_name": "HBoxModel",
            "_view_count": null,
            "_view_module": "@jupyter-widgets/controls",
            "_view_module_version": "1.5.0",
            "_view_name": "HBoxView",
            "box_style": "",
            "children": [
              "IPY_MODEL_4b6d840fd0194cc5bebf74cb72e01789",
              "IPY_MODEL_c9ad48690caa4015ba7ef2657b4c1735",
              "IPY_MODEL_c81be3a153cf4685bef8ec46f3e66103"
            ],
            "layout": "IPY_MODEL_c9ac2552f1b24c3883d77c6295a75f00"
          }
        },
        "4b6d840fd0194cc5bebf74cb72e01789": {
          "model_module": "@jupyter-widgets/controls",
          "model_name": "HTMLModel",
          "model_module_version": "1.5.0",
          "state": {
            "_dom_classes": [],
            "_model_module": "@jupyter-widgets/controls",
            "_model_module_version": "1.5.0",
            "_model_name": "HTMLModel",
            "_view_count": null,
            "_view_module": "@jupyter-widgets/controls",
            "_view_module_version": "1.5.0",
            "_view_name": "HTMLView",
            "description": "",
            "description_tooltip": null,
            "layout": "IPY_MODEL_cfac86f7dcc349a28e8557ef4dcd779c",
            "placeholder": "​",
            "style": "IPY_MODEL_aabc9fa6b8f042298a96731f29cf6e34",
            "value": "Downloading model.safetensors: 100%"
          }
        },
        "c9ad48690caa4015ba7ef2657b4c1735": {
          "model_module": "@jupyter-widgets/controls",
          "model_name": "FloatProgressModel",
          "model_module_version": "1.5.0",
          "state": {
            "_dom_classes": [],
            "_model_module": "@jupyter-widgets/controls",
            "_model_module_version": "1.5.0",
            "_model_name": "FloatProgressModel",
            "_view_count": null,
            "_view_module": "@jupyter-widgets/controls",
            "_view_module_version": "1.5.0",
            "_view_name": "ProgressView",
            "bar_style": "success",
            "description": "",
            "description_tooltip": null,
            "layout": "IPY_MODEL_052651eea1a64403a5ec6472279d4300",
            "max": 548105171,
            "min": 0,
            "orientation": "horizontal",
            "style": "IPY_MODEL_802b7f52af074807affeb5dd8ae864de",
            "value": 548105171
          }
        },
        "c81be3a153cf4685bef8ec46f3e66103": {
          "model_module": "@jupyter-widgets/controls",
          "model_name": "HTMLModel",
          "model_module_version": "1.5.0",
          "state": {
            "_dom_classes": [],
            "_model_module": "@jupyter-widgets/controls",
            "_model_module_version": "1.5.0",
            "_model_name": "HTMLModel",
            "_view_count": null,
            "_view_module": "@jupyter-widgets/controls",
            "_view_module_version": "1.5.0",
            "_view_name": "HTMLView",
            "description": "",
            "description_tooltip": null,
            "layout": "IPY_MODEL_adb2db305c7a406c841e9faca974f2e5",
            "placeholder": "​",
            "style": "IPY_MODEL_ae4f0b100fd2475db38ce573d1f2554f",
            "value": " 548M/548M [00:03&lt;00:00, 159MB/s]"
          }
        },
        "c9ac2552f1b24c3883d77c6295a75f00": {
          "model_module": "@jupyter-widgets/base",
          "model_name": "LayoutModel",
          "model_module_version": "1.2.0",
          "state": {
            "_model_module": "@jupyter-widgets/base",
            "_model_module_version": "1.2.0",
            "_model_name": "LayoutModel",
            "_view_count": null,
            "_view_module": "@jupyter-widgets/base",
            "_view_module_version": "1.2.0",
            "_view_name": "LayoutView",
            "align_content": null,
            "align_items": null,
            "align_self": null,
            "border": null,
            "bottom": null,
            "display": null,
            "flex": null,
            "flex_flow": null,
            "grid_area": null,
            "grid_auto_columns": null,
            "grid_auto_flow": null,
            "grid_auto_rows": null,
            "grid_column": null,
            "grid_gap": null,
            "grid_row": null,
            "grid_template_areas": null,
            "grid_template_columns": null,
            "grid_template_rows": null,
            "height": null,
            "justify_content": null,
            "justify_items": null,
            "left": null,
            "margin": null,
            "max_height": null,
            "max_width": null,
            "min_height": null,
            "min_width": null,
            "object_fit": null,
            "object_position": null,
            "order": null,
            "overflow": null,
            "overflow_x": null,
            "overflow_y": null,
            "padding": null,
            "right": null,
            "top": null,
            "visibility": null,
            "width": null
          }
        },
        "cfac86f7dcc349a28e8557ef4dcd779c": {
          "model_module": "@jupyter-widgets/base",
          "model_name": "LayoutModel",
          "model_module_version": "1.2.0",
          "state": {
            "_model_module": "@jupyter-widgets/base",
            "_model_module_version": "1.2.0",
            "_model_name": "LayoutModel",
            "_view_count": null,
            "_view_module": "@jupyter-widgets/base",
            "_view_module_version": "1.2.0",
            "_view_name": "LayoutView",
            "align_content": null,
            "align_items": null,
            "align_self": null,
            "border": null,
            "bottom": null,
            "display": null,
            "flex": null,
            "flex_flow": null,
            "grid_area": null,
            "grid_auto_columns": null,
            "grid_auto_flow": null,
            "grid_auto_rows": null,
            "grid_column": null,
            "grid_gap": null,
            "grid_row": null,
            "grid_template_areas": null,
            "grid_template_columns": null,
            "grid_template_rows": null,
            "height": null,
            "justify_content": null,
            "justify_items": null,
            "left": null,
            "margin": null,
            "max_height": null,
            "max_width": null,
            "min_height": null,
            "min_width": null,
            "object_fit": null,
            "object_position": null,
            "order": null,
            "overflow": null,
            "overflow_x": null,
            "overflow_y": null,
            "padding": null,
            "right": null,
            "top": null,
            "visibility": null,
            "width": null
          }
        },
        "aabc9fa6b8f042298a96731f29cf6e34": {
          "model_module": "@jupyter-widgets/controls",
          "model_name": "DescriptionStyleModel",
          "model_module_version": "1.5.0",
          "state": {
            "_model_module": "@jupyter-widgets/controls",
            "_model_module_version": "1.5.0",
            "_model_name": "DescriptionStyleModel",
            "_view_count": null,
            "_view_module": "@jupyter-widgets/base",
            "_view_module_version": "1.2.0",
            "_view_name": "StyleView",
            "description_width": ""
          }
        },
        "052651eea1a64403a5ec6472279d4300": {
          "model_module": "@jupyter-widgets/base",
          "model_name": "LayoutModel",
          "model_module_version": "1.2.0",
          "state": {
            "_model_module": "@jupyter-widgets/base",
            "_model_module_version": "1.2.0",
            "_model_name": "LayoutModel",
            "_view_count": null,
            "_view_module": "@jupyter-widgets/base",
            "_view_module_version": "1.2.0",
            "_view_name": "LayoutView",
            "align_content": null,
            "align_items": null,
            "align_self": null,
            "border": null,
            "bottom": null,
            "display": null,
            "flex": null,
            "flex_flow": null,
            "grid_area": null,
            "grid_auto_columns": null,
            "grid_auto_flow": null,
            "grid_auto_rows": null,
            "grid_column": null,
            "grid_gap": null,
            "grid_row": null,
            "grid_template_areas": null,
            "grid_template_columns": null,
            "grid_template_rows": null,
            "height": null,
            "justify_content": null,
            "justify_items": null,
            "left": null,
            "margin": null,
            "max_height": null,
            "max_width": null,
            "min_height": null,
            "min_width": null,
            "object_fit": null,
            "object_position": null,
            "order": null,
            "overflow": null,
            "overflow_x": null,
            "overflow_y": null,
            "padding": null,
            "right": null,
            "top": null,
            "visibility": null,
            "width": null
          }
        },
        "802b7f52af074807affeb5dd8ae864de": {
          "model_module": "@jupyter-widgets/controls",
          "model_name": "ProgressStyleModel",
          "model_module_version": "1.5.0",
          "state": {
            "_model_module": "@jupyter-widgets/controls",
            "_model_module_version": "1.5.0",
            "_model_name": "ProgressStyleModel",
            "_view_count": null,
            "_view_module": "@jupyter-widgets/base",
            "_view_module_version": "1.2.0",
            "_view_name": "StyleView",
            "bar_color": null,
            "description_width": ""
          }
        },
        "adb2db305c7a406c841e9faca974f2e5": {
          "model_module": "@jupyter-widgets/base",
          "model_name": "LayoutModel",
          "model_module_version": "1.2.0",
          "state": {
            "_model_module": "@jupyter-widgets/base",
            "_model_module_version": "1.2.0",
            "_model_name": "LayoutModel",
            "_view_count": null,
            "_view_module": "@jupyter-widgets/base",
            "_view_module_version": "1.2.0",
            "_view_name": "LayoutView",
            "align_content": null,
            "align_items": null,
            "align_self": null,
            "border": null,
            "bottom": null,
            "display": null,
            "flex": null,
            "flex_flow": null,
            "grid_area": null,
            "grid_auto_columns": null,
            "grid_auto_flow": null,
            "grid_auto_rows": null,
            "grid_column": null,
            "grid_gap": null,
            "grid_row": null,
            "grid_template_areas": null,
            "grid_template_columns": null,
            "grid_template_rows": null,
            "height": null,
            "justify_content": null,
            "justify_items": null,
            "left": null,
            "margin": null,
            "max_height": null,
            "max_width": null,
            "min_height": null,
            "min_width": null,
            "object_fit": null,
            "object_position": null,
            "order": null,
            "overflow": null,
            "overflow_x": null,
            "overflow_y": null,
            "padding": null,
            "right": null,
            "top": null,
            "visibility": null,
            "width": null
          }
        },
        "ae4f0b100fd2475db38ce573d1f2554f": {
          "model_module": "@jupyter-widgets/controls",
          "model_name": "DescriptionStyleModel",
          "model_module_version": "1.5.0",
          "state": {
            "_model_module": "@jupyter-widgets/controls",
            "_model_module_version": "1.5.0",
            "_model_name": "DescriptionStyleModel",
            "_view_count": null,
            "_view_module": "@jupyter-widgets/base",
            "_view_module_version": "1.2.0",
            "_view_name": "StyleView",
            "description_width": ""
          }
        },
        "421020d4f2c641f680f70383f0476c61": {
          "model_module": "@jupyter-widgets/controls",
          "model_name": "HBoxModel",
          "model_module_version": "1.5.0",
          "state": {
            "_dom_classes": [],
            "_model_module": "@jupyter-widgets/controls",
            "_model_module_version": "1.5.0",
            "_model_name": "HBoxModel",
            "_view_count": null,
            "_view_module": "@jupyter-widgets/controls",
            "_view_module_version": "1.5.0",
            "_view_name": "HBoxView",
            "box_style": "",
            "children": [
              "IPY_MODEL_4a33c5a6990141acadb065bba8dcd951",
              "IPY_MODEL_380abb6a06db423ab5471e3f701204bb",
              "IPY_MODEL_6e2085a7b2a34f4ca0098c2d9aa7b198"
            ],
            "layout": "IPY_MODEL_512e921a6bb64c318e3919d3e8a776d1"
          }
        },
        "4a33c5a6990141acadb065bba8dcd951": {
          "model_module": "@jupyter-widgets/controls",
          "model_name": "HTMLModel",
          "model_module_version": "1.5.0",
          "state": {
            "_dom_classes": [],
            "_model_module": "@jupyter-widgets/controls",
            "_model_module_version": "1.5.0",
            "_model_name": "HTMLModel",
            "_view_count": null,
            "_view_module": "@jupyter-widgets/controls",
            "_view_module_version": "1.5.0",
            "_view_name": "HTMLView",
            "description": "",
            "description_tooltip": null,
            "layout": "IPY_MODEL_546fc2df2b964c16b8e89e81573bf64e",
            "placeholder": "​",
            "style": "IPY_MODEL_1a8eaaaedfa0429d914aafc4fc835638",
            "value": "Downloading (…)neration_config.json: 100%"
          }
        },
        "380abb6a06db423ab5471e3f701204bb": {
          "model_module": "@jupyter-widgets/controls",
          "model_name": "FloatProgressModel",
          "model_module_version": "1.5.0",
          "state": {
            "_dom_classes": [],
            "_model_module": "@jupyter-widgets/controls",
            "_model_module_version": "1.5.0",
            "_model_name": "FloatProgressModel",
            "_view_count": null,
            "_view_module": "@jupyter-widgets/controls",
            "_view_module_version": "1.5.0",
            "_view_name": "ProgressView",
            "bar_style": "success",
            "description": "",
            "description_tooltip": null,
            "layout": "IPY_MODEL_702641beeef84850943ba45ba83b25db",
            "max": 124,
            "min": 0,
            "orientation": "horizontal",
            "style": "IPY_MODEL_35be1056b4ed4399a3bfa1a48a952d95",
            "value": 124
          }
        },
        "6e2085a7b2a34f4ca0098c2d9aa7b198": {
          "model_module": "@jupyter-widgets/controls",
          "model_name": "HTMLModel",
          "model_module_version": "1.5.0",
          "state": {
            "_dom_classes": [],
            "_model_module": "@jupyter-widgets/controls",
            "_model_module_version": "1.5.0",
            "_model_name": "HTMLModel",
            "_view_count": null,
            "_view_module": "@jupyter-widgets/controls",
            "_view_module_version": "1.5.0",
            "_view_name": "HTMLView",
            "description": "",
            "description_tooltip": null,
            "layout": "IPY_MODEL_1c00f41cd4dd43a49a2cdaa767769efd",
            "placeholder": "​",
            "style": "IPY_MODEL_4c86bca796734b66b5521a9b8519dbd7",
            "value": " 124/124 [00:00&lt;00:00, 2.80kB/s]"
          }
        },
        "512e921a6bb64c318e3919d3e8a776d1": {
          "model_module": "@jupyter-widgets/base",
          "model_name": "LayoutModel",
          "model_module_version": "1.2.0",
          "state": {
            "_model_module": "@jupyter-widgets/base",
            "_model_module_version": "1.2.0",
            "_model_name": "LayoutModel",
            "_view_count": null,
            "_view_module": "@jupyter-widgets/base",
            "_view_module_version": "1.2.0",
            "_view_name": "LayoutView",
            "align_content": null,
            "align_items": null,
            "align_self": null,
            "border": null,
            "bottom": null,
            "display": null,
            "flex": null,
            "flex_flow": null,
            "grid_area": null,
            "grid_auto_columns": null,
            "grid_auto_flow": null,
            "grid_auto_rows": null,
            "grid_column": null,
            "grid_gap": null,
            "grid_row": null,
            "grid_template_areas": null,
            "grid_template_columns": null,
            "grid_template_rows": null,
            "height": null,
            "justify_content": null,
            "justify_items": null,
            "left": null,
            "margin": null,
            "max_height": null,
            "max_width": null,
            "min_height": null,
            "min_width": null,
            "object_fit": null,
            "object_position": null,
            "order": null,
            "overflow": null,
            "overflow_x": null,
            "overflow_y": null,
            "padding": null,
            "right": null,
            "top": null,
            "visibility": null,
            "width": null
          }
        },
        "546fc2df2b964c16b8e89e81573bf64e": {
          "model_module": "@jupyter-widgets/base",
          "model_name": "LayoutModel",
          "model_module_version": "1.2.0",
          "state": {
            "_model_module": "@jupyter-widgets/base",
            "_model_module_version": "1.2.0",
            "_model_name": "LayoutModel",
            "_view_count": null,
            "_view_module": "@jupyter-widgets/base",
            "_view_module_version": "1.2.0",
            "_view_name": "LayoutView",
            "align_content": null,
            "align_items": null,
            "align_self": null,
            "border": null,
            "bottom": null,
            "display": null,
            "flex": null,
            "flex_flow": null,
            "grid_area": null,
            "grid_auto_columns": null,
            "grid_auto_flow": null,
            "grid_auto_rows": null,
            "grid_column": null,
            "grid_gap": null,
            "grid_row": null,
            "grid_template_areas": null,
            "grid_template_columns": null,
            "grid_template_rows": null,
            "height": null,
            "justify_content": null,
            "justify_items": null,
            "left": null,
            "margin": null,
            "max_height": null,
            "max_width": null,
            "min_height": null,
            "min_width": null,
            "object_fit": null,
            "object_position": null,
            "order": null,
            "overflow": null,
            "overflow_x": null,
            "overflow_y": null,
            "padding": null,
            "right": null,
            "top": null,
            "visibility": null,
            "width": null
          }
        },
        "1a8eaaaedfa0429d914aafc4fc835638": {
          "model_module": "@jupyter-widgets/controls",
          "model_name": "DescriptionStyleModel",
          "model_module_version": "1.5.0",
          "state": {
            "_model_module": "@jupyter-widgets/controls",
            "_model_module_version": "1.5.0",
            "_model_name": "DescriptionStyleModel",
            "_view_count": null,
            "_view_module": "@jupyter-widgets/base",
            "_view_module_version": "1.2.0",
            "_view_name": "StyleView",
            "description_width": ""
          }
        },
        "702641beeef84850943ba45ba83b25db": {
          "model_module": "@jupyter-widgets/base",
          "model_name": "LayoutModel",
          "model_module_version": "1.2.0",
          "state": {
            "_model_module": "@jupyter-widgets/base",
            "_model_module_version": "1.2.0",
            "_model_name": "LayoutModel",
            "_view_count": null,
            "_view_module": "@jupyter-widgets/base",
            "_view_module_version": "1.2.0",
            "_view_name": "LayoutView",
            "align_content": null,
            "align_items": null,
            "align_self": null,
            "border": null,
            "bottom": null,
            "display": null,
            "flex": null,
            "flex_flow": null,
            "grid_area": null,
            "grid_auto_columns": null,
            "grid_auto_flow": null,
            "grid_auto_rows": null,
            "grid_column": null,
            "grid_gap": null,
            "grid_row": null,
            "grid_template_areas": null,
            "grid_template_columns": null,
            "grid_template_rows": null,
            "height": null,
            "justify_content": null,
            "justify_items": null,
            "left": null,
            "margin": null,
            "max_height": null,
            "max_width": null,
            "min_height": null,
            "min_width": null,
            "object_fit": null,
            "object_position": null,
            "order": null,
            "overflow": null,
            "overflow_x": null,
            "overflow_y": null,
            "padding": null,
            "right": null,
            "top": null,
            "visibility": null,
            "width": null
          }
        },
        "35be1056b4ed4399a3bfa1a48a952d95": {
          "model_module": "@jupyter-widgets/controls",
          "model_name": "ProgressStyleModel",
          "model_module_version": "1.5.0",
          "state": {
            "_model_module": "@jupyter-widgets/controls",
            "_model_module_version": "1.5.0",
            "_model_name": "ProgressStyleModel",
            "_view_count": null,
            "_view_module": "@jupyter-widgets/base",
            "_view_module_version": "1.2.0",
            "_view_name": "StyleView",
            "bar_color": null,
            "description_width": ""
          }
        },
        "1c00f41cd4dd43a49a2cdaa767769efd": {
          "model_module": "@jupyter-widgets/base",
          "model_name": "LayoutModel",
          "model_module_version": "1.2.0",
          "state": {
            "_model_module": "@jupyter-widgets/base",
            "_model_module_version": "1.2.0",
            "_model_name": "LayoutModel",
            "_view_count": null,
            "_view_module": "@jupyter-widgets/base",
            "_view_module_version": "1.2.0",
            "_view_name": "LayoutView",
            "align_content": null,
            "align_items": null,
            "align_self": null,
            "border": null,
            "bottom": null,
            "display": null,
            "flex": null,
            "flex_flow": null,
            "grid_area": null,
            "grid_auto_columns": null,
            "grid_auto_flow": null,
            "grid_auto_rows": null,
            "grid_column": null,
            "grid_gap": null,
            "grid_row": null,
            "grid_template_areas": null,
            "grid_template_columns": null,
            "grid_template_rows": null,
            "height": null,
            "justify_content": null,
            "justify_items": null,
            "left": null,
            "margin": null,
            "max_height": null,
            "max_width": null,
            "min_height": null,
            "min_width": null,
            "object_fit": null,
            "object_position": null,
            "order": null,
            "overflow": null,
            "overflow_x": null,
            "overflow_y": null,
            "padding": null,
            "right": null,
            "top": null,
            "visibility": null,
            "width": null
          }
        },
        "4c86bca796734b66b5521a9b8519dbd7": {
          "model_module": "@jupyter-widgets/controls",
          "model_name": "DescriptionStyleModel",
          "model_module_version": "1.5.0",
          "state": {
            "_model_module": "@jupyter-widgets/controls",
            "_model_module_version": "1.5.0",
            "_model_name": "DescriptionStyleModel",
            "_view_count": null,
            "_view_module": "@jupyter-widgets/base",
            "_view_module_version": "1.2.0",
            "_view_name": "StyleView",
            "description_width": ""
          }
        }
      }
    }
  },
  "cells": [
    {
      "cell_type": "markdown",
      "metadata": {
        "id": "q3IOeFoye2P8"
      },
      "source": [
        "# T-725 Natural Language Processing: Lab 5\n",
        "In today's lab, we will be working with neural networks, using GRUs and Transformers for text generation.\n",
        "\n",
        "To begin with, do the following:\n",
        "* Select `\"File\" > \"Save a copy in Drive\"` to create a local copy of this notebook that you can edit.\n",
        "* **Select `\"Runtime\" > \"Change runtime type\"`, and make sure that you have \"Hardware accelerator\" set to \"GPU\"**\n",
        "* Select `\"Runtime\" > \"Run all\"` to run the code in this notebook."
      ]
    },
    {
      "cell_type": "code",
      "metadata": {
        "id": "R7ElxTOtl6UQ",
        "ExecuteTime": {
          "end_time": "2023-09-29T11:26:34.436437913Z",
          "start_time": "2023-09-29T11:26:23.013300097Z"
        }
      },
      "source": [
        "import os\n",
        "\n",
        "# Suppress some warnings from TensorFlow about deprecated functions\n",
        "os.environ['TF_CPP_MIN_LOG_LEVEL'] = '3'"
      ],
      "execution_count": 1,
      "outputs": []
    },
    {
      "cell_type": "markdown",
      "metadata": {
        "id": "Ayz3HiU7JvCF"
      },
      "source": [
        "## Generating text with neural networks\n",
        "Let's create a neural language model and use it to generate some text. This time, we will use character embeddings rather than word embeddings. They are created in exactly the same way, and are often used together in neural network-based models. One benefit of using character embeddings is that we can generate words that our model has never seen before.\n",
        "\n",
        "The model takes as input a sequence of characters and predicts which character is most likely to follow. We will generate text by repeatedly predicting and appending the next character to a string. First, however, we need some text to train it on.\n"
      ]
    },
    {
      "cell_type": "code",
      "metadata": {
        "id": "PN7I_djD91Py",
        "ExecuteTime": {
          "end_time": "2023-09-29T11:26:35.061509588Z",
          "start_time": "2023-09-29T11:26:23.033952986Z"
        },
        "colab": {
          "base_uri": "https://localhost:8080/"
        },
        "outputId": "95bac913-46a6-4973-964a-f1135540bb6a"
      },
      "source": [
        "# Based on the following tutorial:\n",
        "# https://www.tensorflow.org/tutorials/text/text_generation\n",
        "\n",
        "import tensorflow as tf\n",
        "import numpy as np\n",
        "\n",
        "# Let's download some text by Shakespeare to train our model\n",
        "url = 'https://storage.googleapis.com/download.tensorflow.org/data/shakespeare.txt'\n",
        "path_to_file = tf.keras.utils.get_file('shakespeare.txt', url)\n",
        "\n",
        "with open(path_to_file, encoding='utf-8') as f:\n",
        "  shakespeare = f.read()\n",
        "\n",
        "print(\"First 250 characters:\")\n",
        "print(shakespeare[:250])\n",
        "\n",
        "print (\"Length of text: {:,} characters\".format(len(shakespeare)))"
      ],
      "execution_count": 2,
      "outputs": [
        {
          "output_type": "stream",
          "name": "stdout",
          "text": [
            "Downloading data from https://storage.googleapis.com/download.tensorflow.org/data/shakespeare.txt\n",
            "1115394/1115394 [==============================] - 0s 0us/step\n",
            "First 250 characters:\n",
            "First Citizen:\n",
            "Before we proceed any further, hear me speak.\n",
            "\n",
            "All:\n",
            "Speak, speak.\n",
            "\n",
            "First Citizen:\n",
            "You are all resolved rather to die than to famish?\n",
            "\n",
            "All:\n",
            "Resolved. resolved.\n",
            "\n",
            "First Citizen:\n",
            "First, you know Caius Marcius is chief enemy to the people.\n",
            "\n",
            "Length of text: 1,115,394 characters\n"
          ]
        }
      ]
    },
    {
      "cell_type": "markdown",
      "metadata": {
        "id": "45JqVDxqtf1o"
      },
      "source": [
        "Now we can create training examples for our model. Each example will be a pair of strings: one input string containing 100 characters, and a target string that is one character ahead. For example, the first pair we create is:\n",
        "\n",
        "**Input string**:  `'First Citizen:\\nBefore we proceed any further, hear me speak.\\n\\nAll:\\nSpeak, speak.\\n\\nFirst Citizen:\\nYou'`\n",
        "\n",
        "**Target string**: `'irst Citizen:\\nBefore we proceed any further, hear me speak.\\n\\nAll:\\nSpeak, speak.\\n\\nFirst Citizen:\\nYou '`\n",
        "\n",
        "However, before we can start training, we need to convert our text into a list of integers, where each integer represents a different character. For example, \"First Citizen\" becomes:\n",
        "\n",
        "```\n",
        "Character:   F   i   r   s   t      C   i   t   i   z   e   n\n",
        "Integer:   [18, 47, 56, 57, 58, 1, 15, 47, 58, 47, 64, 43, 52]\n",
        "```"
      ]
    },
    {
      "cell_type": "code",
      "metadata": {
        "id": "dWPZjI0xHJ44",
        "ExecuteTime": {
          "start_time": "2023-09-29T11:26:23.200876886Z"
        }
      },
      "source": [
        "BATCH_SIZE = 64  # Batch size\n",
        "BUFFER_SIZE = 10000  # Buffer size to shuffle the dataset\n",
        "\n",
        "def split_input_target(chunk):\n",
        "  # Create (input_string, output_string) pairs\n",
        "  input_text = chunk[:-1]\n",
        "  target_text = chunk[1:]\n",
        "  return input_text, target_text\n",
        "\n",
        "def prepare_text(text):\n",
        "  # The unique characters in the file\n",
        "  vocab = sorted(set(text))\n",
        "  print ('{} unique characters'.format(len(vocab)))\n",
        "\n",
        "  # Creating a mapping from unique characters to indices\n",
        "  char_map = {\n",
        "      'char_to_index': {char: index for index, char in enumerate(vocab)},\n",
        "      'index_to_char': np.array(vocab)\n",
        "  }\n",
        "\n",
        "  text_as_int = np.array([char_map['char_to_index'][c] for c in text])\n",
        "\n",
        "  # The maximum length sentence we want for a single input in characters\n",
        "  seq_length = 100\n",
        "  examples_per_epoch = len(text) // (seq_length+1)\n",
        "\n",
        "  # Create training examples / targets\n",
        "  char_dataset = tf.data.Dataset.from_tensor_slices(text_as_int)\n",
        "  sequences = char_dataset.batch(seq_length + 1, drop_remainder=True)\n",
        "  dataset = sequences.map(split_input_target)\n",
        "\n",
        "  # (TF data is designed to work with possibly infinite sequences,\n",
        "  # so it doesn't attempt to shuffle the entire sequence in memory. Instead,\n",
        "  # it maintains a buffer in which it shuffles elements).\n",
        "  dataset = dataset.shuffle(BUFFER_SIZE).batch(BATCH_SIZE, drop_remainder=True)\n",
        "\n",
        "  return dataset, vocab, examples_per_epoch, char_map"
      ],
      "execution_count": 3,
      "outputs": []
    },
    {
      "cell_type": "markdown",
      "metadata": {
        "id": "IPGoaE2TDnX9"
      },
      "source": [
        "Now we can create and train the neural network."
      ]
    },
    {
      "cell_type": "code",
      "metadata": {
        "id": "y5bOTe1hDqtY",
        "ExecuteTime": {
          "start_time": "2023-09-29T11:26:23.211627758Z"
        }
      },
      "source": [
        "import os\n",
        "\n",
        "def loss(labels, logits):\n",
        "  return tf.keras.losses.sparse_categorical_crossentropy(labels, logits, from_logits=True)\n",
        "\n",
        "\n",
        "def build_model(vocab_size, embedding_dim, rnn_units, batch_size):\n",
        "  model = tf.keras.Sequential([\n",
        "      tf.keras.layers.Embedding(vocab_size,\n",
        "                                embedding_dim,\n",
        "                                batch_input_shape=[batch_size, None]),\n",
        "      tf.keras.layers.GRU(rnn_units,\n",
        "                          return_sequences=True,\n",
        "                          recurrent_initializer='glorot_uniform',\n",
        "                          stateful=True),\n",
        "      tf.keras.layers.Dense(vocab_size)\n",
        "  ])\n",
        "\n",
        "  return model\n",
        "\n",
        "\n",
        "def create_model(text, epochs=3, embedding_dim = 256, rnn_units = 1024):\n",
        "  dataset, vocab, examples_per_epoch, char_map = prepare_text(text)\n",
        "\n",
        "  vocab_size = len(vocab)  # Length of the vocabulary in chars\n",
        "\n",
        "  model = build_model(vocab_size, embedding_dim, rnn_units, BATCH_SIZE)\n",
        "\n",
        "  # Compile the model\n",
        "  model.compile(optimizer='adam', loss=loss)\n",
        "\n",
        "  # Create checkpoints once the model has been trained\n",
        "  checkpoint_dir = './training_checkpoints'\n",
        "  checkpoint_prefix = os.path.join(checkpoint_dir, \"ckpt_{epoch}\")\n",
        "  checkpoint_callback=tf.keras.callbacks.ModelCheckpoint(\n",
        "      filepath=checkpoint_prefix,\n",
        "      save_weights_only=True)\n",
        "\n",
        "  # Train the model\n",
        "  history = model.fit(\n",
        "      dataset,\n",
        "      epochs=epochs,\n",
        "      callbacks=[checkpoint_callback])\n",
        "\n",
        "  tf.train.latest_checkpoint(checkpoint_dir)\n",
        "  model = build_model(vocab_size, embedding_dim, rnn_units, batch_size=1)\n",
        "  model.load_weights(tf.train.latest_checkpoint(checkpoint_dir))\n",
        "  model.build(tf.TensorShape([1, None]))\n",
        "\n",
        "  return model, char_map"
      ],
      "execution_count": 4,
      "outputs": []
    },
    {
      "cell_type": "code",
      "metadata": {
        "id": "tK4fcZI55rzd",
        "ExecuteTime": {
          "start_time": "2023-09-29T11:26:23.212040028Z"
        },
        "colab": {
          "base_uri": "https://localhost:8080/"
        },
        "outputId": "1c6d393b-5158-4839-f7c5-a2dfc5211969"
      },
      "source": [
        "shake_model, shake_chars = create_model(shakespeare)"
      ],
      "execution_count": 5,
      "outputs": [
        {
          "output_type": "stream",
          "name": "stdout",
          "text": [
            "65 unique characters\n",
            "Epoch 1/3\n",
            "172/172 [==============================] - 25s 60ms/step - loss: 2.6344\n",
            "Epoch 2/3\n",
            "172/172 [==============================] - 10s 50ms/step - loss: 1.9440\n",
            "Epoch 3/3\n",
            "172/172 [==============================] - 12s 50ms/step - loss: 1.6826\n"
          ]
        }
      ]
    },
    {
      "cell_type": "markdown",
      "metadata": {
        "id": "m_R1efC2eKH1"
      },
      "source": [
        "Now that we've trained our model, we can finally use it to generate some text. The following function takes a model and a string as input, and continually predicts and appends the next character to the string until it becomes 1,000 characters long."
      ]
    },
    {
      "cell_type": "code",
      "metadata": {
        "id": "KhVcs5ny-urX",
        "ExecuteTime": {
          "start_time": "2023-09-29T11:26:23.220214984Z"
        }
      },
      "source": [
        "def generate_text(model, char_map, start_string, temperature=1.0):\n",
        "  # Evaluation step (generating text using the learned model)\n",
        "  # Low temperatures results in more predictable text.\n",
        "  # Higher temperatures results in more surprising text.\n",
        "  if not start_string:\n",
        "    print(\"start_string can't be empty\")\n",
        "    return \"\"\n",
        "\n",
        "  # Number of characters to generate\n",
        "  num_generate = 1000\n",
        "\n",
        "  # Converting our start string to numbers (vectorizing)\n",
        "  input_eval = [char_map['char_to_index'][s] for s in start_string]\n",
        "  input_eval = tf.expand_dims(input_eval, 0)\n",
        "\n",
        "  # Empty string to store our results\n",
        "  text_generated = []\n",
        "\n",
        "  # Here batch size == 1\n",
        "  model.reset_states()\n",
        "  for i in range(num_generate):\n",
        "      predictions = model(input_eval)\n",
        "      # remove the batch dimension\n",
        "      predictions = tf.squeeze(predictions, 0)\n",
        "\n",
        "      # using a categorical distribution to predict the character returned by the model\n",
        "      predictions = predictions / temperature\n",
        "      predicted_id = tf.random.categorical(predictions, num_samples=1)[-1,0].numpy()\n",
        "\n",
        "      # We pass the predicted word as the next input to the model\n",
        "      # along with the previous hidden state\n",
        "      input_eval = tf.expand_dims([predicted_id], 0)\n",
        "\n",
        "      text_generated.append(char_map['index_to_char'][predicted_id])\n",
        "\n",
        "  return (start_string + ''.join(text_generated))"
      ],
      "execution_count": 6,
      "outputs": []
    },
    {
      "cell_type": "markdown",
      "metadata": {
        "id": "kS0UlqVbhOwa"
      },
      "source": [
        "Let's generate some text!"
      ]
    },
    {
      "cell_type": "code",
      "metadata": {
        "id": "1YOnJYAn-upC",
        "ExecuteTime": {
          "start_time": "2023-09-29T11:26:23.222140772Z"
        },
        "colab": {
          "base_uri": "https://localhost:8080/"
        },
        "outputId": "c15d5f92-fe6d-428c-9b72-c5e1d98b9a5c"
      },
      "source": [
        "print(generate_text(shake_model, shake_chars, \"ROMEO: \", temperature=1.0))"
      ],
      "execution_count": 7,
      "outputs": [
        {
          "output_type": "stream",
          "name": "stdout",
          "text": [
            "ROMEO: Good consiour aris bruther,\n",
            "What it the lawe?\n",
            "\n",
            "ROMEO:\n",
            "Lordo't sir; we'll chence the prace fase hither: come that,\n",
            "Be mather date her must shall bede:\n",
            "This such yids he wish the parr cas\n",
            "\n",
            "QUEEN MARGARET:\n",
            "Whese weld you our subjecthes.\n",
            "Rignd, of lost makes the widland of the marry\n",
            "Than chargions father, came'bl, sir?\n",
            "\n",
            "KING Juhing thou art?\n",
            "\n",
            "HENRY Aurue.\n",
            "\n",
            "ProvoRK:\n",
            "I that kind, what am us ruch?\n",
            "\n",
            "LEONTES:\n",
            "To list held that not of bid yet shee dean,\n",
            "Or Verstame be pity of his blowerage.\n",
            "\n",
            "QUEEN:\n",
            "This riseangs me; faurt pleazer how he dase hear,\n",
            "A peason! what all accour'd.\n",
            "We prayers before, eye it masid let-med-maks and cheezen I Am greater:\n",
            "Say, alings he let upon mistroys wife\n",
            "Till eafed their other liegely.\n",
            "\n",
            "Luss:\n",
            "Moch did cunmand it thou, if the riege of you's bleade his hand;\n",
            "The crown, I befter it wranch, or e begs; he sean hor all.\n",
            "\n",
            "CORIOLANUS:\n",
            "If hask the lawnt's handys he what to ROVIF Mirdanat:\n",
            "Is indwed, I bust my shulless upon.\n",
            "Mally: the patture your graitous?\n",
            "\n",
            "Thind Siray thou \n"
          ]
        }
      ]
    },
    {
      "cell_type": "markdown",
      "metadata": {
        "id": "-n5WwsuZe0B6"
      },
      "source": [
        "# Assignment\n",
        "Answer the following questions and hand in your solution in Canvas before 8:30 on Monday morning, October 2nd. Remember to save your file before uploading it."
      ]
    },
    {
      "cell_type": "markdown",
      "metadata": {
        "id": "ZoKGONy4fSl3"
      },
      "source": [
        "## Question 1\n",
        "The `temperature` parameter of `generate_text()`, defined earlier in the notebook, controls how predictable the generated text will be. The lower the temperature, the more the function will tend to append the most likely character (according to the model's prediction). A higher temperature introduces some randomness, leading to more unpredictable text.\n",
        "\n",
        "The text we generated above used a temperature of 1.0. Try generating more text using the Shakespeare model, once using a temperature of 0.2 and again using a temperature of 0.8."
      ]
    },
    {
      "cell_type": "code",
      "metadata": {
        "id": "XsSNVxKEeGZb",
        "ExecuteTime": {
          "start_time": "2023-09-29T11:26:23.264537458Z"
        },
        "colab": {
          "base_uri": "https://localhost:8080/"
        },
        "outputId": "f1c89350-3faa-43a9-a592-fa07ed7f9846"
      },
      "source": [
        "# Your solution here\n",
        "print(\"Text generated with temperature 0.2:\\n\", generate_text(shake_model, shake_chars, \"ROMEO: \", temperature=0.2))\n",
        "\n",
        "print(\"Text generated with temperature 0.8:\\n\", generate_text(shake_model, shake_chars, \"ROMEO: \", temperature=0.8))"
      ],
      "execution_count": 8,
      "outputs": [
        {
          "output_type": "stream",
          "name": "stdout",
          "text": [
            "Text generated with temperature 0.2:\n",
            " ROMEO: I have stay the courters of his heart his bearth the cause of his heart.\n",
            "\n",
            "KING RICHARD III:\n",
            "The shall be come to her his prince and the properts of his heart.\n",
            "\n",
            "KING RICHARD III:\n",
            "The surse the court of his hath be consule.\n",
            "\n",
            "KING RICHARD III:\n",
            "The courtes of the courtel of the stand of his hand.\n",
            "\n",
            "KING RICHARD III:\n",
            "The cause you shall be speak the surse the prown and the courtes of the courtes of the parton of his heart.\n",
            "\n",
            "KING RICHARD II:\n",
            "The now is the courtes of the courters,\n",
            "The court he had the cause of his procest of the present of the partent of the courters of the surjess,\n",
            "And shall be consent the prother with the propert of the courters of the provess of the subject of his heart her stands of the parton and a cause of his hath be speak.\n",
            "\n",
            "KING RICHARD III:\n",
            "What is the rest of the seath of his heart.\n",
            "\n",
            "KING RICHARD III:\n",
            "The surse the courtes of the cause of heart shall be so read the partion.\n",
            "\n",
            "QUEEN ELIZABETH:\n",
            "The shall be consting of the cause of his heart the courters of the cause o\n",
            "Text generated with temperature 0.8:\n",
            " ROMEO: what, you houser thanks.\n",
            "Was it be like and thruse a caster of your whench ever the manid battam,\n",
            "And you his have a varring imperves behe bestive\n",
            "With his ewame not you may be wrievent thee.\n",
            "\n",
            "WARWICK:\n",
            "Thou have tome they will be ingiest\n",
            "To her his the flan with the petite,\n",
            "That thou to stear my men singor wething.\n",
            "\n",
            "KING RICHARD III:\n",
            "Thou hast thou cheer deach on the faterul from.\n",
            "\n",
            "KING HENRY VI:\n",
            "The that this face bown. I prince sour says'd?\n",
            "What I love here Mancatrey and sweet\n",
            "Ix art look and the devings, your say chase gode.\n",
            "\n",
            "KING EDWARD IV:\n",
            "Well is the may contunent, let me wear the caughterance,\n",
            "To playe the brom.\n",
            "\n",
            "KING RICHARD III:\n",
            "May, 'tump thou shall I see, 'tesely that'll be but his and his ares\n",
            "Thoutation of this puttets the for.\n",
            "\n",
            "Gidot:\n",
            "Arish'd him, and barners. Than sworts his brother,\n",
            "I'll still the proves Of buck, be good dell.\n",
            "\n",
            "LEONTES:\n",
            "O, there's my manianct hate let him to bed your this?\n",
            "\n",
            "GRYARE:\n",
            "Ye well him not have o'd me or the hourt,\n",
            "Let thou senstifes live our he\n"
          ]
        }
      ]
    },
    {
      "cell_type": "markdown",
      "metadata": {
        "id": "hauhMD0gfV2o"
      },
      "source": [
        "## Question 2\n",
        "NLTK's `names` corpus contains a list of approximately 8,000 English names. Train a new model on `names_raw` for at least 20 epochs using the `create_model(text, epochs=n)` function defined earlier. Use the trained model to generate a list of names (with the `generate_text` function defined earlier), starting with your own first name. Your name should not contain any non-English characters, and should end with an `\\n`.\n",
        "\n",
        "Print out the names that do not appear in the training data. Do you get any actual names (or at least names that sound plausible)?"
      ]
    },
    {
      "cell_type": "code",
      "metadata": {
        "id": "NEOIqRE9fWTF",
        "ExecuteTime": {
          "start_time": "2023-09-29T11:26:23.264858050Z"
        },
        "colab": {
          "base_uri": "https://localhost:8080/"
        },
        "outputId": "cf2e303e-a8f6-4a60-98a7-ff16397dcc74"
      },
      "source": [
        "# Don't modify this code cell\n",
        "import nltk\n",
        "from nltk.corpus import names\n",
        "nltk.download('names')\n",
        "\n",
        "# Print out a few examples\n",
        "names_raw = names.raw()\n",
        "names_unique = set(names_raw.split())\n",
        "names_raw = \"\\n\".join(names_unique)\n",
        "print(names_raw.splitlines()[:5])"
      ],
      "execution_count": 9,
      "outputs": [
        {
          "output_type": "stream",
          "name": "stdout",
          "text": [
            "['Gavrielle', 'Georgine', 'Whitaker', 'Florry', 'Janka']\n"
          ]
        },
        {
          "output_type": "stream",
          "name": "stderr",
          "text": [
            "[nltk_data] Downloading package names to /root/nltk_data...\n",
            "[nltk_data]   Unzipping corpora/names.zip.\n"
          ]
        }
      ]
    },
    {
      "cell_type": "code",
      "metadata": {
        "id": "d7Y8qE1tYR1n",
        "ExecuteTime": {
          "start_time": "2023-09-29T11:26:23.266670079Z"
        },
        "colab": {
          "base_uri": "https://localhost:8080/"
        },
        "outputId": "18571612-fec9-4001-a4b8-42fe4449f2ff"
      },
      "source": [
        "names_raw_model, names_raw_chars = create_model(names_raw, epochs=20)\n",
        "response = generate_text(names_raw_model, names_raw_chars, \"Francesco\\n\").split()"
      ],
      "execution_count": 10,
      "outputs": [
        {
          "output_type": "stream",
          "name": "stdout",
          "text": [
            "55 unique characters\n",
            "Epoch 1/20\n",
            "8/8 [==============================] - 3s 112ms/step - loss: 4.2857\n",
            "Epoch 2/20\n",
            "8/8 [==============================] - 1s 72ms/step - loss: 3.8083\n",
            "Epoch 3/20\n",
            "8/8 [==============================] - 1s 88ms/step - loss: 3.5974\n",
            "Epoch 4/20\n",
            "8/8 [==============================] - 1s 62ms/step - loss: 3.0862\n",
            "Epoch 5/20\n",
            "8/8 [==============================] - 1s 65ms/step - loss: 2.8039\n",
            "Epoch 6/20\n",
            "8/8 [==============================] - 1s 62ms/step - loss: 2.5926\n",
            "Epoch 7/20\n",
            "8/8 [==============================] - 1s 60ms/step - loss: 2.4590\n",
            "Epoch 8/20\n",
            "8/8 [==============================] - 1s 69ms/step - loss: 2.3886\n",
            "Epoch 9/20\n",
            "8/8 [==============================] - 1s 61ms/step - loss: 2.3410\n",
            "Epoch 10/20\n",
            "8/8 [==============================] - 1s 64ms/step - loss: 2.3085\n",
            "Epoch 11/20\n",
            "8/8 [==============================] - 1s 68ms/step - loss: 2.2779\n",
            "Epoch 12/20\n",
            "8/8 [==============================] - 1s 61ms/step - loss: 2.2570\n",
            "Epoch 13/20\n",
            "8/8 [==============================] - 1s 62ms/step - loss: 2.2369\n",
            "Epoch 14/20\n",
            "8/8 [==============================] - 1s 69ms/step - loss: 2.2204\n",
            "Epoch 15/20\n",
            "8/8 [==============================] - 1s 64ms/step - loss: 2.2036\n",
            "Epoch 16/20\n",
            "8/8 [==============================] - 1s 67ms/step - loss: 2.1950\n",
            "Epoch 17/20\n",
            "8/8 [==============================] - 1s 66ms/step - loss: 2.1830\n",
            "Epoch 18/20\n",
            "8/8 [==============================] - 1s 62ms/step - loss: 2.1710\n",
            "Epoch 19/20\n",
            "8/8 [==============================] - 1s 61ms/step - loss: 2.1624\n",
            "Epoch 20/20\n",
            "8/8 [==============================] - 1s 66ms/step - loss: 2.1544\n"
          ]
        }
      ]
    },
    {
      "cell_type": "code",
      "source": [
        "print(response)"
      ],
      "metadata": {
        "colab": {
          "base_uri": "https://localhost:8080/"
        },
        "id": "K0BiGW-qysyT",
        "outputId": "e93f614d-9ad1-4b57-d81a-e138aaded81b"
      },
      "execution_count": 11,
      "outputs": [
        {
          "output_type": "stream",
          "name": "stdout",
          "text": [
            "['Francesco', 'Hossia', 'Alanena', 'Dan', 'Cobber', 'Wence', 'Soreqellode', 'Aulinia', 'Cdonis', 'Reos', 'Erdi', 'Harna', 'Aldine', 'Deouza', 'Melpoy', 'Nozie', 'Amleite', 'Shbiriet', 'Hilasmara', 'Annayna', 'Loba', 'Daincce', 'Moldie', 'Roomie', 'Heryrce', 'Dormy', 'New', 'Caulen', 'Kale', 'Shfonn', 'Morrito', 'Anesol', 'Athelen', 'Hargergiettha', 'Brncel', 'Roneand', 'Lence', 'Folrie', 'Aeni', 'Clevorgu', 'Arson', 'Tanerele', 'Poavie', 'Chovie', 'Stotte', 'Leona', 'Melia', 'Karitpe', 'Daronio', 'Emeula', 'Shandeli', 'Gamlie', 'Isodde', 'Danert', 'Chevon', 'Brann', 'Adod', 'Batri', 'Wirgielle', 'Amor', 'Nolona', 'Roneb', 'Roleette', 'Jundoh', 'Kaventey', 'Dannacia', 'Wirollin', 'Selbenti', 'Beblie', 'Adilfie', 'Heodry', 'Areatha', 'Nettta', 'Wilyann', 'Tely', 'Sefally', 'Otep', 'Anisa', 'Miph', 'Va', 'Sabollen', 'Doida', 'Maria', 'LosSy', 'Pillin', 'Hanchelda', 'Heiter', 'Erd', 'Sheora', 'Carsh', 'Rengmia', 'Jitha', 'Icia', 'Kele', 'Martora', 'Ien', 'Dory', 'Canno', 'Rofelane', 'Jona', 'Dary', 'Roenie', 'Grivyna', 'Jodriqa', 'Anere', 'Lilbath', 'Maucoh', 'Oivy', 'Leephadina', 'Laune', 'Bany', 'Mathissa', 'Waiaren', 'Joph', 'Cheonie', 'Jofili', 'Denzo', 'Battin', 'Lius', 'Saceyn', 'Fobry', 'Ibella', 'Shuiss', 'Killle', 'Lulne', 'Rose', 'Koshe', 'Pharlus', 'Kalifu', 'Wiedd', 'Kyen', 'Clozwe', 'Theulann', 'Stuisa', 'Namya', 'Elsee', 'Mallie', 'Sulle', 'Luave', 'Gellera', 'Tey', 'Rugoane', 'Rusthah', 'Rivteyn', 'Forielne', 'Ro']\n"
          ]
        }
      ]
    },
    {
      "cell_type": "code",
      "source": [
        "\n",
        "not_in_training_dataset = list(set(response) - set(names_raw))\n",
        "print(not_in_training_dataset)"
      ],
      "metadata": {
        "colab": {
          "base_uri": "https://localhost:8080/"
        },
        "id": "2FNxg5W1yfaA",
        "outputId": "739b8127-3f22-4c49-fe47-4dc72f3a322b"
      },
      "execution_count": 12,
      "outputs": [
        {
          "output_type": "stream",
          "name": "stdout",
          "text": [
            "['Clevorgu', 'Dory', 'Cheonie', 'Icia', 'Doida', 'Pillin', 'Cobber', 'Oivy', 'Nettta', 'Chevon', 'Amleite', 'Wirollin', 'New', 'Stuisa', 'Gellera', 'Dormy', 'Theulann', 'Lence', 'Bany', 'Danert', 'Kale', 'Kalifu', 'Anesol', 'Soreqellode', 'Aulinia', 'Moldie', 'Aldine', 'Batri', 'Loba', 'Athelen', 'Kele', 'Nozie', 'Annayna', 'Fobry', 'Jitha', 'Rose', 'Rugoane', 'Roneb', 'Jodriqa', 'Saceyn', 'Isodde', 'Caulen', 'Joph', 'Killle', 'Adod', 'Maria', 'Maucoh', 'Deouza', 'Sefally', 'Mathissa', 'Rengmia', 'Roenie', 'Pharlus', 'Lilbath', 'Selbenti', 'Rivteyn', 'Sulle', 'Gamlie', 'Wirgielle', 'Brann', 'Shuiss', 'Leona', 'Heryrce', 'Dannacia', 'Wiedd', 'Areatha', 'Morrito', 'Beblie', 'Va', 'Ibella', 'Folrie', 'Miph', 'Jundoh', 'Roneand', 'Kyen', 'Kaventey', 'Hilasmara', 'Roleette', 'Roomie', 'Namya', 'Wence', 'Karitpe', 'Shfonn', 'Dary', 'Emeula', 'Hanchelda', 'Harna', 'Cdonis', 'Denzo', 'Reos', 'Alanena', 'Adilfie', 'Leephadina', 'Anere', 'Sabollen', 'Chovie', 'Jofili', 'Grivyna', 'Canno', 'Tey', 'Francesco', 'Lius', 'Jona', 'Wilyann', 'Amor', 'Brncel', 'Anisa', 'Koshe', 'Rofelane', 'Hossia', 'Hargergiettha', 'Carsh', 'Erd', 'Tanerele', 'Otep', 'Nolona', 'Laune', 'Melia', 'Heiter', 'Melpoy', 'Mallie', 'Daincce', 'Stotte', 'Arson', 'LosSy', 'Shandeli', 'Sheora', 'Forielne', 'Luave', 'Dan', 'Lulne', 'Erdi', 'Ien', 'Tely', 'Clozwe', 'Martora', 'Elsee', 'Shbiriet', 'Poavie', 'Aeni', 'Rusthah', 'Battin', 'Daronio', 'Ro', 'Heodry', 'Waiaren']\n"
          ]
        }
      ]
    },
    {
      "cell_type": "markdown",
      "source": [
        "From the list above, the only names in list that I think are plausible are:\n",
        " - my name (Altrough is a quite common name in Italy, it wasn't in the list)\n",
        " - 'Marika'\n",
        " - 'Cam'\n",
        "\n",
        "All the other do not seem like human-ish, I would use some specific ones for Role Playing Games (like DnD):\n",
        " - 'Zeana'\n",
        " - 'Nalret'\n",
        " - 'Ammonoel'\n",
        " - 'Layle' (Directly from Final Fantasy)\n",
        " - 'Merylle'\n",
        " - 'Lofia'\n",
        " - 'Floray'"
      ],
      "metadata": {
        "id": "3WWuERn_ztnb"
      }
    },
    {
      "cell_type": "markdown",
      "source": [
        "##Question 3\n",
        "The size of the model can make a difference when it comes to performance. Create a new model that has twice the number of hidden units as the previous model and double the size of the embeddings. How does the performance change? What happens if you decrease these parameters?"
      ],
      "metadata": {
        "id": "64h0OI83sXJE"
      }
    },
    {
      "cell_type": "code",
      "source": [
        "names_raw_model_twice, names_raw_chars_twice = create_model(names_raw, epochs=20, embedding_dim = 512, rnn_units = 2048)\n",
        "names_raw_model_half, names_raw_chars_half = create_model(names_raw, epochs=20, embedding_dim = 256, rnn_units = 512)"
      ],
      "metadata": {
        "id": "Myk6_IUitYjk",
        "ExecuteTime": {
          "start_time": "2023-09-29T11:26:23.266881385Z"
        },
        "colab": {
          "base_uri": "https://localhost:8080/"
        },
        "outputId": "7d515d44-5b67-423f-f2a3-d86483565c7f"
      },
      "execution_count": 13,
      "outputs": [
        {
          "output_type": "stream",
          "name": "stdout",
          "text": [
            "55 unique characters\n",
            "Epoch 1/20\n",
            "8/8 [==============================] - 5s 259ms/step - loss: 7.8894\n",
            "Epoch 2/20\n",
            "8/8 [==============================] - 3s 384ms/step - loss: 5.6203\n",
            "Epoch 3/20\n",
            "8/8 [==============================] - 2s 236ms/step - loss: 3.2681\n",
            "Epoch 4/20\n",
            "8/8 [==============================] - 2s 234ms/step - loss: 2.8871\n",
            "Epoch 5/20\n",
            "8/8 [==============================] - 2s 251ms/step - loss: 2.6368\n",
            "Epoch 6/20\n",
            "8/8 [==============================] - 4s 481ms/step - loss: 2.5041\n",
            "Epoch 7/20\n",
            "8/8 [==============================] - 2s 239ms/step - loss: 2.4254\n",
            "Epoch 8/20\n",
            "8/8 [==============================] - 2s 245ms/step - loss: 2.3721\n",
            "Epoch 9/20\n",
            "8/8 [==============================] - 3s 361ms/step - loss: 2.3354\n",
            "Epoch 10/20\n",
            "8/8 [==============================] - 2s 241ms/step - loss: 2.3055\n",
            "Epoch 11/20\n",
            "8/8 [==============================] - 2s 246ms/step - loss: 2.2780\n",
            "Epoch 12/20\n",
            "8/8 [==============================] - 3s 420ms/step - loss: 2.2590\n",
            "Epoch 13/20\n",
            "8/8 [==============================] - 2s 315ms/step - loss: 2.2421\n",
            "Epoch 14/20\n",
            "8/8 [==============================] - 2s 248ms/step - loss: 2.2268\n",
            "Epoch 15/20\n",
            "8/8 [==============================] - 2s 252ms/step - loss: 2.2134\n",
            "Epoch 16/20\n",
            "8/8 [==============================] - 2s 253ms/step - loss: 2.2018\n",
            "Epoch 17/20\n",
            "8/8 [==============================] - 2s 254ms/step - loss: 2.1922\n",
            "Epoch 18/20\n",
            "8/8 [==============================] - 3s 434ms/step - loss: 2.1830\n",
            "Epoch 19/20\n",
            "8/8 [==============================] - 2s 256ms/step - loss: 2.1737\n",
            "Epoch 20/20\n",
            "8/8 [==============================] - 2s 254ms/step - loss: 2.1647\n",
            "55 unique characters\n",
            "Epoch 1/20\n",
            "8/8 [==============================] - 3s 79ms/step - loss: 3.8523\n",
            "Epoch 2/20\n",
            "8/8 [==============================] - 0s 31ms/step - loss: 3.4718\n",
            "Epoch 3/20\n",
            "8/8 [==============================] - 0s 37ms/step - loss: 3.2367\n",
            "Epoch 4/20\n",
            "8/8 [==============================] - 0s 38ms/step - loss: 3.0223\n",
            "Epoch 5/20\n",
            "8/8 [==============================] - 0s 35ms/step - loss: 2.8723\n",
            "Epoch 6/20\n",
            "8/8 [==============================] - 0s 35ms/step - loss: 2.6835\n",
            "Epoch 7/20\n",
            "8/8 [==============================] - 0s 30ms/step - loss: 2.5334\n",
            "Epoch 8/20\n",
            "8/8 [==============================] - 0s 31ms/step - loss: 2.4324\n",
            "Epoch 9/20\n",
            "8/8 [==============================] - 0s 30ms/step - loss: 2.3686\n",
            "Epoch 10/20\n",
            "8/8 [==============================] - 0s 31ms/step - loss: 2.3292\n",
            "Epoch 11/20\n",
            "8/8 [==============================] - 0s 30ms/step - loss: 2.2980\n",
            "Epoch 12/20\n",
            "8/8 [==============================] - 0s 30ms/step - loss: 2.2729\n",
            "Epoch 13/20\n",
            "8/8 [==============================] - 0s 30ms/step - loss: 2.2535\n",
            "Epoch 14/20\n",
            "8/8 [==============================] - 0s 31ms/step - loss: 2.2349\n",
            "Epoch 15/20\n",
            "8/8 [==============================] - 0s 31ms/step - loss: 2.2201\n",
            "Epoch 16/20\n",
            "8/8 [==============================] - 0s 32ms/step - loss: 2.2051\n",
            "Epoch 17/20\n",
            "8/8 [==============================] - 0s 46ms/step - loss: 2.1949\n",
            "Epoch 18/20\n",
            "8/8 [==============================] - 0s 30ms/step - loss: 2.1826\n",
            "Epoch 19/20\n",
            "8/8 [==============================] - 0s 31ms/step - loss: 2.1743\n",
            "Epoch 20/20\n",
            "8/8 [==============================] - 0s 32ms/step - loss: 2.1631\n"
          ]
        }
      ]
    },
    {
      "cell_type": "code",
      "source": [
        "# To assess the performances I'll generate some names and use the results to compare the two models\n",
        "\n",
        "result_twice = generate_text(names_raw_model_twice, names_raw_chars_twice, \"Francesco\\n\").split()\n",
        "result_half = generate_text(names_raw_model_half, names_raw_chars_half, \"Francesco\\n\").split()\n",
        "\n",
        "print(\"Result Twice:\\n\", result_twice)\n",
        "print(\"Result Half: \\n\", result_half)"
      ],
      "metadata": {
        "colab": {
          "base_uri": "https://localhost:8080/"
        },
        "id": "2MssCJQ92zWi",
        "outputId": "6777a6ba-b8ee-41f3-dc5b-964d9180d621"
      },
      "execution_count": 14,
      "outputs": [
        {
          "output_type": "stream",
          "name": "stdout",
          "text": [
            "Result Twice:\n",
            " ['Francesco', 'Agsellene', 'Jelfoenaloonna', 'Tromiak', 'Sastanda', 'Beabiesaana', 'Ann-Natse', 'Eleta', 'Uli', 'Sarena', 'Rilbeoe', 'Eswina', 'Esed', 'Decof', 'Warcie', 'Jona', 'Elybbe', 'Margie', 'Discita', 'Stammay', 'Danera', 'Odwy', 'Eutttoue', 'Margurttte', 'Simarorlond', 'Ellelley', 'Kaphwele', 'Sabod', 'Cadillen', 'Staree', 'Barse', 'Marer', 'Keine', 'Rathiathy', 'Gwannco', 'Amatheri', 'Adrina', 'Naildan', 'Sormy', 'Gorgabere', 'Merdelle', 'Mavie', 'Marely', 'Borons', 'Daeti', 'Istin', 'Clinally', 'Gurimande', 'Myscke', 'Naiay', 'Londendo', 'Skieto', 'Alb', 'Brion', 'Mollas', 'Evaila', 'Mabraree', 'Hled', 'Ally', 'Marli', 'Rokeli', 'Lianea', 'Lyneth', 'Witthye', 'Leavin', 'Toberance', 'Fineter', 'Ilva', 'Dallly', 'Corny', 'Malmole', 'Gadetta', 'Barter', 'Collor', 'Mandie', 'Clairlia', 'Rigig', 'Jeecie', 'Bewenn', 'Marlar', 'Dan', 'Demaic', 'Tanna', 'Kery', 'Elite', 'Vackean', 'Morgakd', 'Canali', 'Jaghadge', 'Wararac', 'Jarde', 'Katy', 'Doly', 'Roria', 'Livet', 'Gibey', 'Grisolda', 'Gristio', 'Sillyce', 'Sorsebd', 'Roben', 'Farry', 'Wianisie', 'Tamari', 'Colvie', 'Mety', 'Rorna-Alatix', 'Mickyne', 'Robey', 'Fallika', 'Ilelia', 'Meli', 'Senen', 'Vittisha', 'Churlin', 'Olmox', 'Nicemn', 'Fidina', 'Fandy', 'Iven', 'Fabbey', 'Kidnie', 'Marlosa', 'Zane', 'Mylisa', 'Kareno', 'Ebrila', 'Robb', 'Lanein', 'Korina', 'Emolarly', 'Rata', 'Banice', 'Rudon', 'Guallan', 'Spolmon', 'Relie', 'Balath', 'Sham', 'Taff']\n",
            "Result Half: \n",
            " ['Francesco', 'Karra', 'Jiscyne', 'Hilce', 'Nilvol', 'Synia', 'Mondiel', 'Rousce', 'Lsiella', 'Junta', 'Thawmon', 'Jenelio', 'Bemt', 'Mero', 'Eveonan', 'Kitter', 'Yumie', 'Aunhella', 'Lushill', 'Borrau', 'Lyn', 'Blly', 'Andibrom', 'Lobamula', 'Dasely', 'Siinno', 'Eudane', 'Rounnice', 'Alevorco', 'Kayen', 'Culselto', 'Yela', 'Linni', 'Pheri', 'Nezetia', 'Moscella', 'Pertine', 'Remonet', 'Feriesil', 'Landrander', 'Luvia', 'Sube', 'Fonneria', 'Stem', 'Lannatia', 'Andissa', 'Sisdin', 'Etsye', 'Taddy', 'Annaie', 'Berfi', 'Rarr', 'Canira', 'Clionelenna', 'Marvie', 'Lode', 'Sarbonne', 'Frachel', 'Finnett', 'Chertely', 'Duci', 'Luley', 'Geros', 'Saz', 'Lobie', 'Nicte', 'Cadre', 'Aryse', 'Newie', 'Florie', 'Delia', 'Margettasto', 'Runina', 'Siollon', 'Etinrtorladdi', 'Bantie', 'Pabely', 'Kavori', 'Gerssa', 'Bamburane', 'Nasnanda', 'Iummon', 'Berin', 'Jedala', 'Hoculie', 'Juchera', 'Eliss', 'Bevey', 'Reda', 'Reomacia', 'Isphenie', 'Dasye', 'Terda', 'Cherti', 'Nonch', 'Hest', 'Slesse', 'Isthor', 'Mawnaber', 'Tynsann', 'Moriline', 'Lazene', 'Chandia', 'Lela', 'Anaber', 'Gebarne', 'Hettine', 'Hrare', 'Marlin', 'Neto', 'San', 'Beletta', 'Malin', 'Clabettt', 'Gexesean', 'Frgeriste', 'PurisMel', 'Licly', 'Geinellinne', 'Razole', 'Huyndy', 'Yaunille', 'Brier', 'Dale', 'Pinere', 'Thusty', 'Luxe', 'Filam', 'Dattie', 'Sobertande', 'Claniea', 'Bebris', 'Elbane', 'Roociysa', 'Dodarue', 'Devite', 'Gliger', 'Gaunice', 'Haberta']\n"
          ]
        }
      ]
    },
    {
      "cell_type": "markdown",
      "source": [
        "The output from the model trained with twice the embeddings and units is more realistic, the generated names are more human-like and usable.\n",
        "The difference in the provided output shows that the model trained with twice the parameters performs better compared to the default model and to the model trained with half the parameters.\n",
        "Therefore I assume that a higher amount of parameters can help the model in better understanding the structure of names and how to generate them."
      ],
      "metadata": {
        "id": "1FNDU9ZE3lX-"
      }
    },
    {
      "cell_type": "markdown",
      "source": [
        "## Question 4\n",
        "Transformer large language models can also generate text. The following code imports a pretrained GPT-2 model from Huggingface's Transformer library. This model can then be used directly to generate text, given a prompt as context. Alter the prompt to have the transformer model (GPT-2) generate an engaging story beginning using one of the following story starters:\n",
        "\n",
        "\n",
        "*   It was the day the moon fell.\n",
        "*   Am I in heaven?  What happened to me?\n",
        "*   Wandering through the graveyard it felt like something was watching me.\n",
        "*   Three of us.  We were the only ones left, the only ones to make it to the island.\n",
        "\n",
        "There are several different methods to choose from to generate the text (as seen in the commented out lines below). Try out the different methods and play with the parameters. This [blogpost](https://huggingface.co/blog/how-to-generate) explains their differences.\n",
        "\n",
        "Which method has the best performance?\n",
        "\n",
        "Can GPT-2 generate Shakespere?"
      ],
      "metadata": {
        "id": "2FI-1ldhn0SE"
      }
    },
    {
      "cell_type": "code",
      "source": [
        "# Uncomment if transformers is not installed\n",
        "!pip install transformers"
      ],
      "metadata": {
        "id": "GE-xTvvYvHAy",
        "ExecuteTime": {
          "end_time": "2023-09-29T11:26:35.226327419Z",
          "start_time": "2023-09-29T11:26:23.308560582Z"
        },
        "colab": {
          "base_uri": "https://localhost:8080/"
        },
        "outputId": "9131c213-823c-4df3-c009-dee32ea06e8d"
      },
      "execution_count": 15,
      "outputs": [
        {
          "output_type": "stream",
          "name": "stdout",
          "text": [
            "Collecting transformers\n",
            "  Downloading transformers-4.33.3-py3-none-any.whl (7.6 MB)\n",
            "\u001b[2K     \u001b[90m━━━━━━━━━━━━━━━━━━━━━━━━━━━━━━━━━━━━━━━━\u001b[0m \u001b[32m7.6/7.6 MB\u001b[0m \u001b[31m21.1 MB/s\u001b[0m eta \u001b[36m0:00:00\u001b[0m\n",
            "\u001b[?25hRequirement already satisfied: filelock in /usr/local/lib/python3.10/dist-packages (from transformers) (3.12.2)\n",
            "Collecting huggingface-hub<1.0,>=0.15.1 (from transformers)\n",
            "  Downloading huggingface_hub-0.17.3-py3-none-any.whl (295 kB)\n",
            "\u001b[2K     \u001b[90m━━━━━━━━━━━━━━━━━━━━━━━━━━━━━━━━━━━━━━\u001b[0m \u001b[32m295.0/295.0 kB\u001b[0m \u001b[31m30.1 MB/s\u001b[0m eta \u001b[36m0:00:00\u001b[0m\n",
            "\u001b[?25hRequirement already satisfied: numpy>=1.17 in /usr/local/lib/python3.10/dist-packages (from transformers) (1.23.5)\n",
            "Requirement already satisfied: packaging>=20.0 in /usr/local/lib/python3.10/dist-packages (from transformers) (23.1)\n",
            "Requirement already satisfied: pyyaml>=5.1 in /usr/local/lib/python3.10/dist-packages (from transformers) (6.0.1)\n",
            "Requirement already satisfied: regex!=2019.12.17 in /usr/local/lib/python3.10/dist-packages (from transformers) (2023.6.3)\n",
            "Requirement already satisfied: requests in /usr/local/lib/python3.10/dist-packages (from transformers) (2.31.0)\n",
            "Collecting tokenizers!=0.11.3,<0.14,>=0.11.1 (from transformers)\n",
            "  Downloading tokenizers-0.13.3-cp310-cp310-manylinux_2_17_x86_64.manylinux2014_x86_64.whl (7.8 MB)\n",
            "\u001b[2K     \u001b[90m━━━━━━━━━━━━━━━━━━━━━━━━━━━━━━━━━━━━━━━━\u001b[0m \u001b[32m7.8/7.8 MB\u001b[0m \u001b[31m55.3 MB/s\u001b[0m eta \u001b[36m0:00:00\u001b[0m\n",
            "\u001b[?25hCollecting safetensors>=0.3.1 (from transformers)\n",
            "  Downloading safetensors-0.3.3-cp310-cp310-manylinux_2_17_x86_64.manylinux2014_x86_64.whl (1.3 MB)\n",
            "\u001b[2K     \u001b[90m━━━━━━━━━━━━━━━━━━━━━━━━━━━━━━━━━━━━━━━━\u001b[0m \u001b[32m1.3/1.3 MB\u001b[0m \u001b[31m59.0 MB/s\u001b[0m eta \u001b[36m0:00:00\u001b[0m\n",
            "\u001b[?25hRequirement already satisfied: tqdm>=4.27 in /usr/local/lib/python3.10/dist-packages (from transformers) (4.66.1)\n",
            "Requirement already satisfied: fsspec in /usr/local/lib/python3.10/dist-packages (from huggingface-hub<1.0,>=0.15.1->transformers) (2023.6.0)\n",
            "Requirement already satisfied: typing-extensions>=3.7.4.3 in /usr/local/lib/python3.10/dist-packages (from huggingface-hub<1.0,>=0.15.1->transformers) (4.5.0)\n",
            "Requirement already satisfied: charset-normalizer<4,>=2 in /usr/local/lib/python3.10/dist-packages (from requests->transformers) (3.2.0)\n",
            "Requirement already satisfied: idna<4,>=2.5 in /usr/local/lib/python3.10/dist-packages (from requests->transformers) (3.4)\n",
            "Requirement already satisfied: urllib3<3,>=1.21.1 in /usr/local/lib/python3.10/dist-packages (from requests->transformers) (2.0.4)\n",
            "Requirement already satisfied: certifi>=2017.4.17 in /usr/local/lib/python3.10/dist-packages (from requests->transformers) (2023.7.22)\n",
            "Installing collected packages: tokenizers, safetensors, huggingface-hub, transformers\n",
            "Successfully installed huggingface-hub-0.17.3 safetensors-0.3.3 tokenizers-0.13.3 transformers-4.33.3\n"
          ]
        }
      ]
    },
    {
      "cell_type": "code",
      "source": [
        "# Do not modify this code\n",
        "# https://huggingface.co/docs/transformers/main_classes/text_generation\n",
        "\n",
        "from transformers import AutoTokenizer, AutoModelForCausalLM\n",
        "\n",
        "tokenizer = AutoTokenizer.from_pretrained(\"gpt2\")\n",
        "\n",
        "model = AutoModelForCausalLM.from_pretrained(\"gpt2\")\n",
        "\n",
        "prompt = \"Today I believe we can finally\"\n",
        "\n",
        "input_ids = tokenizer(prompt, return_tensors=\"pt\").input_ids\n",
        "\n",
        "outputs = model.generate(input_ids, max_length=100) # Greedy search\n",
        "#outputs = model.generate(input_ids, max_length=100, num_beams=5, no_repeat_ngram_size=3, early_stopping=True) # Beam search\n",
        "#outputs = model.generate(input_ids, do_sample=True, max_length=100, top_k=0, temperature=0.7) # Sampling\n",
        "#outputs = model.generate(input_ids, do_sample=True, max_length=100, top_k=50) # Top-k\n",
        "#outputs = model.generate(input_ids, do_sample=True, max_length=100, top_k=50, top_p=0.92) # Top-p\n",
        "\n",
        "tokenizer.batch_decode(outputs, skip_special_tokens=True)"
      ],
      "metadata": {
        "id": "2_ZMgywnnziH",
        "ExecuteTime": {
          "start_time": "2023-09-29T11:26:27.099575291Z"
        },
        "colab": {
          "base_uri": "https://localhost:8080/",
          "height": 296,
          "referenced_widgets": [
            "981cd09d5f444816ba9ad008640bc696",
            "1573ccd8aaa24beea9b2ab623176b476",
            "7b52c972150b46eaa6590255849657d7",
            "3c65dade99534eb7baf582f23688d274",
            "086e81c8b76c4cd094cb50dfb8ab3f2e",
            "5eab657a15464d9ab99805bd14c5418c",
            "3f853a234bf943f8a1ea1a2a3f41a05a",
            "fc00daee5a374a5ba648b26345f56085",
            "8466a51cd1ba41abadf1b69505efa0e8",
            "b7a82956954f49ea94b02e21742d061c",
            "76e32be1ce06479381ba720e297cdbfd",
            "a9c556ffb2de448f8a845b38ecfdd162",
            "62796910d5b44d979306bee2869a9818",
            "c02af60dc75d4bee8a9a5ed478711511",
            "76b61615f4c44b03a8dd4f120413aaca",
            "3e385869a4c84577a2e7439a2b7aa70c",
            "b72548b9d9174e9987a4fc9dd5ec3673",
            "877ef92aa91d4dee8e1c4dc516e1c16c",
            "42c9e75672a440539b6ebbe201e65ba1",
            "230118f5b86245529abcf1fc1104da11",
            "ff3cbce0bf254a6ba95aa95611ba3a19",
            "7751d9745ddb437a9988d2fc9b04079a",
            "4d583b22e8d34989a717dd9ed9984df4",
            "e5a29b46926646829cac3a47aef8aa66",
            "c382c39cfb31465a9ec2596ec12da4d5",
            "6001721e499d40af83812fd9b28fac40",
            "876a3664fdc74b61b9ac0413b36d782d",
            "7751ec84755b4a4b92e2e57a8f1f590e",
            "e9039fbd9f0d4759ba8999e8597ffacb",
            "0a0b08cbba654294ae045dee3ebda594",
            "9e949195bf7d425c913d8b5b37a00718",
            "ccd478d8db734886a2835337b5ebf491",
            "cfe4ae5677c44be694c9d2002364a557",
            "76b2bd6522974cfd8deb763ff132e6a5",
            "a34ec860842b400a99ccc6e870ace38b",
            "260952962fa542a5af2db7476139eaf1",
            "539686ce72ac40cba9f86b361fa90b66",
            "cbab74e8f9a8452583f868e4ae920724",
            "26e2f6faf99c494eb85bb559b368ce61",
            "be53158346dc40debbb8eec2336e16b3",
            "697c33433691422aaccd1ae5941c9b39",
            "19d3d7ee762546f08984c0627671ae6c",
            "df7465f5400143c4845e12efa57f59a4",
            "ec75e96c5a6c44e19131b8f3f7221484",
            "ef7a65e127354494afad1af30b98f391",
            "4b6d840fd0194cc5bebf74cb72e01789",
            "c9ad48690caa4015ba7ef2657b4c1735",
            "c81be3a153cf4685bef8ec46f3e66103",
            "c9ac2552f1b24c3883d77c6295a75f00",
            "cfac86f7dcc349a28e8557ef4dcd779c",
            "aabc9fa6b8f042298a96731f29cf6e34",
            "052651eea1a64403a5ec6472279d4300",
            "802b7f52af074807affeb5dd8ae864de",
            "adb2db305c7a406c841e9faca974f2e5",
            "ae4f0b100fd2475db38ce573d1f2554f",
            "421020d4f2c641f680f70383f0476c61",
            "4a33c5a6990141acadb065bba8dcd951",
            "380abb6a06db423ab5471e3f701204bb",
            "6e2085a7b2a34f4ca0098c2d9aa7b198",
            "512e921a6bb64c318e3919d3e8a776d1",
            "546fc2df2b964c16b8e89e81573bf64e",
            "1a8eaaaedfa0429d914aafc4fc835638",
            "702641beeef84850943ba45ba83b25db",
            "35be1056b4ed4399a3bfa1a48a952d95",
            "1c00f41cd4dd43a49a2cdaa767769efd",
            "4c86bca796734b66b5521a9b8519dbd7"
          ]
        },
        "outputId": "feb5cf5d-a39e-4dc1-fc91-9f48bf8820c6"
      },
      "execution_count": 16,
      "outputs": [
        {
          "output_type": "display_data",
          "data": {
            "text/plain": [
              "Downloading (…)lve/main/config.json:   0%|          | 0.00/665 [00:00<?, ?B/s]"
            ],
            "application/vnd.jupyter.widget-view+json": {
              "version_major": 2,
              "version_minor": 0,
              "model_id": "981cd09d5f444816ba9ad008640bc696"
            }
          },
          "metadata": {}
        },
        {
          "output_type": "display_data",
          "data": {
            "text/plain": [
              "Downloading (…)olve/main/vocab.json:   0%|          | 0.00/1.04M [00:00<?, ?B/s]"
            ],
            "application/vnd.jupyter.widget-view+json": {
              "version_major": 2,
              "version_minor": 0,
              "model_id": "a9c556ffb2de448f8a845b38ecfdd162"
            }
          },
          "metadata": {}
        },
        {
          "output_type": "display_data",
          "data": {
            "text/plain": [
              "Downloading (…)olve/main/merges.txt:   0%|          | 0.00/456k [00:00<?, ?B/s]"
            ],
            "application/vnd.jupyter.widget-view+json": {
              "version_major": 2,
              "version_minor": 0,
              "model_id": "4d583b22e8d34989a717dd9ed9984df4"
            }
          },
          "metadata": {}
        },
        {
          "output_type": "display_data",
          "data": {
            "text/plain": [
              "Downloading (…)/main/tokenizer.json:   0%|          | 0.00/1.36M [00:00<?, ?B/s]"
            ],
            "application/vnd.jupyter.widget-view+json": {
              "version_major": 2,
              "version_minor": 0,
              "model_id": "76b2bd6522974cfd8deb763ff132e6a5"
            }
          },
          "metadata": {}
        },
        {
          "output_type": "display_data",
          "data": {
            "text/plain": [
              "Downloading model.safetensors:   0%|          | 0.00/548M [00:00<?, ?B/s]"
            ],
            "application/vnd.jupyter.widget-view+json": {
              "version_major": 2,
              "version_minor": 0,
              "model_id": "ef7a65e127354494afad1af30b98f391"
            }
          },
          "metadata": {}
        },
        {
          "output_type": "display_data",
          "data": {
            "text/plain": [
              "Downloading (…)neration_config.json:   0%|          | 0.00/124 [00:00<?, ?B/s]"
            ],
            "application/vnd.jupyter.widget-view+json": {
              "version_major": 2,
              "version_minor": 0,
              "model_id": "421020d4f2c641f680f70383f0476c61"
            }
          },
          "metadata": {}
        },
        {
          "output_type": "stream",
          "name": "stderr",
          "text": [
            "The attention mask and the pad token id were not set. As a consequence, you may observe unexpected behavior. Please pass your input's `attention_mask` to obtain reliable results.\n",
            "Setting `pad_token_id` to `eos_token_id`:50256 for open-end generation.\n"
          ]
        },
        {
          "output_type": "execute_result",
          "data": {
            "text/plain": [
              "['Today I believe we can finally get to the point where we can make a difference in the lives of the people of the United States of America.\\n\\nI believe that we can make a difference in the lives of the people of the United States of America.\\n\\nI believe that we can make a difference in the lives of the people of the United States of America.\\n\\nI believe that we can make a difference in the lives of the people of the United States of America.\\n\\n']"
            ]
          },
          "metadata": {},
          "execution_count": 16
        }
      ]
    },
    {
      "cell_type": "code",
      "source": [
        "def test_gpt2(prompt: str, max_length=100):\n",
        "  input_ids = tokenizer(prompt, return_tensors=\"pt\").input_ids\n",
        "\n",
        "  outputs = model.generate(input_ids, max_length=100) # Greedy search\n",
        "  print(tokenizer.batch_decode(outputs, skip_special_tokens=True))\n",
        "\n",
        "  print('\\n')\n",
        "\n",
        "  outputs = model.generate(input_ids, max_length=max_length, num_beams=5, no_repeat_ngram_size=3, early_stopping=True) # Beam search\n",
        "  print(tokenizer.batch_decode(outputs, skip_special_tokens=True))\n",
        "\n",
        "  print('\\n')\n",
        "\n",
        "  outputs = model.generate(input_ids, do_sample=True, max_length=max_length, top_k=0, temperature=0.7) # Sampling\n",
        "  print(tokenizer.batch_decode(outputs, skip_special_tokens=True))\n",
        "\n",
        "  print('\\n')\n",
        "\n",
        "  outputs = model.generate(input_ids, do_sample=True, max_length=max_length, top_k=50) # Top-k\n",
        "  print(tokenizer.batch_decode(outputs, skip_special_tokens=True))\n",
        "\n",
        "  print('\\n')\n",
        "\n",
        "  outputs = model.generate(input_ids, do_sample=True, max_length=max_length, top_k=50, top_p=0.92) # Top-p\n",
        "  print(tokenizer.batch_decode(outputs, skip_special_tokens=True))"
      ],
      "metadata": {
        "id": "CjQKUnGm67dF"
      },
      "execution_count": 17,
      "outputs": []
    },
    {
      "cell_type": "code",
      "source": [
        "prompt = \"It was the day the moon fell.\"\n",
        "\n",
        "test_gpt2(prompt)"
      ],
      "metadata": {
        "id": "hnH32YYKraN4",
        "ExecuteTime": {
          "start_time": "2023-09-29T11:26:33.112106441Z"
        },
        "colab": {
          "base_uri": "https://localhost:8080/"
        },
        "outputId": "7c6ba3ba-47af-42ed-f06b-7b7b7c74a21a"
      },
      "execution_count": 18,
      "outputs": [
        {
          "output_type": "stream",
          "name": "stderr",
          "text": [
            "The attention mask and the pad token id were not set. As a consequence, you may observe unexpected behavior. Please pass your input's `attention_mask` to obtain reliable results.\n",
            "Setting `pad_token_id` to `eos_token_id`:50256 for open-end generation.\n",
            "The attention mask and the pad token id were not set. As a consequence, you may observe unexpected behavior. Please pass your input's `attention_mask` to obtain reliable results.\n",
            "Setting `pad_token_id` to `eos_token_id`:50256 for open-end generation.\n"
          ]
        },
        {
          "output_type": "stream",
          "name": "stdout",
          "text": [
            "['It was the day the moon fell.\\n\\n\"I was in the middle of the night, and I saw the moon rise and fall,\" he said. \"I was in the middle of the night, and I saw the moon rise and fall.\"\\n\\nHe said he was in the middle of the night, and he saw the moon rise and fall.\\n\\n\"I was in the middle of the night, and I saw the moon rise and fall,\" he said. \"I was']\n",
            "\n",
            "\n"
          ]
        },
        {
          "output_type": "stream",
          "name": "stderr",
          "text": [
            "The attention mask and the pad token id were not set. As a consequence, you may observe unexpected behavior. Please pass your input's `attention_mask` to obtain reliable results.\n",
            "Setting `pad_token_id` to `eos_token_id`:50256 for open-end generation.\n"
          ]
        },
        {
          "output_type": "stream",
          "name": "stdout",
          "text": [
            "['It was the day the moon fell.\\n\\n\"It was a beautiful day,\" she said. \"It was beautiful. It was beautiful.\"']\n",
            "\n",
            "\n"
          ]
        },
        {
          "output_type": "stream",
          "name": "stderr",
          "text": [
            "The attention mask and the pad token id were not set. As a consequence, you may observe unexpected behavior. Please pass your input's `attention_mask` to obtain reliable results.\n",
            "Setting `pad_token_id` to `eos_token_id`:50256 for open-end generation.\n"
          ]
        },
        {
          "output_type": "stream",
          "name": "stdout",
          "text": [
            "['It was the day the moon fell. A single meteor hit the sky and it\\'s the only way to get around a planet like this. It\\'s like a dream come true.\\n\\n\"Is that so?\"\\n\\n\"I\\'m not sure. I\\'ve never seen a meteor as big as this.\"\\n\\n\"You think you can see a meteor?\"\\n\\n\"I\\'m not sure. I\\'ve never seen a meteor as big as this.\"\\n\\n- C4 -\\n\\n']\n",
            "\n",
            "\n"
          ]
        },
        {
          "output_type": "stream",
          "name": "stderr",
          "text": [
            "The attention mask and the pad token id were not set. As a consequence, you may observe unexpected behavior. Please pass your input's `attention_mask` to obtain reliable results.\n",
            "Setting `pad_token_id` to `eos_token_id`:50256 for open-end generation.\n"
          ]
        },
        {
          "output_type": "stream",
          "name": "stdout",
          "text": [
            "[\"It was the day the moon fell. I could hear the moon's cry as her eyes opened. I could see the moon light with my naked eye. I saw her with one hand above her with the other (I also could see her at a distance, just as she must have been when she first found me on this planet). I could say that she seemed to be in love with me. That would have been hard for any man that did not have the pleasure of looking after himself for methyl\"]\n",
            "\n",
            "\n",
            "[\"It was the day the moon fell.\\n\\nAnd now I was the same. I was one of five children to survive. And I remember thinking of those who were my cousins who'd lost their families and grandparents, and who didn't like that I looked down on them and thought 'oh, they're going to do a fine job,' because I knew they would do it again.'\\n\\nIt is hard to believe that my grandfather, my grandmother, my great-grandfather and my great\"]\n"
          ]
        }
      ]
    },
    {
      "cell_type": "code",
      "source": [
        "# Test Shakespere\n",
        "prompt = shakespeare[:100]\n",
        "\n",
        "test_gpt2(prompt, max_length=1000)\n",
        "\n",
        "prompt = shakespeare[:200]\n",
        "test_gpt2(prompt, max_length=1000)"
      ],
      "metadata": {
        "colab": {
          "base_uri": "https://localhost:8080/"
        },
        "id": "S9g88S-M60Bu",
        "outputId": "7146b761-d768-4bb0-8dfc-5266598a0737"
      },
      "execution_count": 19,
      "outputs": [
        {
          "output_type": "stream",
          "name": "stderr",
          "text": [
            "The attention mask and the pad token id were not set. As a consequence, you may observe unexpected behavior. Please pass your input's `attention_mask` to obtain reliable results.\n",
            "Setting `pad_token_id` to `eos_token_id`:50256 for open-end generation.\n",
            "The attention mask and the pad token id were not set. As a consequence, you may observe unexpected behavior. Please pass your input's `attention_mask` to obtain reliable results.\n",
            "Setting `pad_token_id` to `eos_token_id`:50256 for open-end generation.\n"
          ]
        },
        {
          "output_type": "stream",
          "name": "stdout",
          "text": [
            "['First Citizen:\\nBefore we proceed any further, hear me speak.\\n\\nAll:\\nSpeak, speak.\\n\\nFirst Citizen:\\nYou are not a citizen.\\n\\nAll:\\n\\nSpeak, speak.\\n\\nFirst Citizen:\\n\\nYou are not a citizen.\\n\\nAll:\\n\\nSpeak, speak.\\n\\nFirst Citizen:\\n\\nYou are not a citizen.\\n\\nAll:\\n\\nSpeak, speak.\\n\\nFirst Citizen:']\n",
            "\n",
            "\n"
          ]
        },
        {
          "output_type": "stream",
          "name": "stderr",
          "text": [
            "The attention mask and the pad token id were not set. As a consequence, you may observe unexpected behavior. Please pass your input's `attention_mask` to obtain reliable results.\n",
            "Setting `pad_token_id` to `eos_token_id`:50256 for open-end generation.\n"
          ]
        },
        {
          "output_type": "stream",
          "name": "stdout",
          "text": [
            "['First Citizen:\\nBefore we proceed any further, hear me speak.\\n\\nAll:\\nSpeak, speak.\\n\\nFirst Citizen:\\nYou know what I\\'m talking about. You know what it\\'s like to be a first-class citizen in the United States of America. And you know what that means to me. I mean, you know, I\\'ve been in this country for a long time, and I\\'ve never seen anything like this before. And I think it\\'s important for us to be able to say, \"We\\'re here to help you, and we\\'re here for you.\" And that\\'s what we\\'re going to do. And we\\'re not going to stop until we\\'re able to do that. And it\\'s going to take a lot of hard work, and it\\'s gonna take time, but we\\'re gonna do it. We\\'re gonna make sure that we\\'re doing everything we can to make this country a better place for all of us, and that\\'s why I\\'m here today. I want to thank all of you for being here today, and thank you all for your support. And thank you to all of the people who have been here for so long, and all of those who have worked so hard for this country, and they\\'re all here today to say thank you. Thank you to everyone who\\'s been here, and to all those who\\'ve been here to support us. And to all the people that have been working so hard to get this country back on track, to make sure we\\'re making sure that this country works for everybody, and everybody\\'s doing what they can to get it done, and everyone\\'s doing the best they can. So thank you so much for your time today. And thanks to everybody who\\'s come to this country to help us make sure this country is going to work for everyone, and every single one of you who\\'s here today is doing what you can to help make that happen. And if you have any questions or concerns, you\\'re welcome to ask them in the comments section of this post. I\\'ll try to answer them as quickly as I can, and if I\\'m wrong, I\\'ll correct it as soon as I hear back from you.']\n",
            "\n",
            "\n"
          ]
        },
        {
          "output_type": "stream",
          "name": "stderr",
          "text": [
            "The attention mask and the pad token id were not set. As a consequence, you may observe unexpected behavior. Please pass your input's `attention_mask` to obtain reliable results.\n",
            "Setting `pad_token_id` to `eos_token_id`:50256 for open-end generation.\n"
          ]
        },
        {
          "output_type": "stream",
          "name": "stdout",
          "text": [
            "[\"First Citizen:\\nBefore we proceed any further, hear me speak.\\n\\nAll:\\nSpeak, speak.\\n\\nFirst Citizen:\\nYou, out of the village, can tell me the list of things you want to know.\\n\\n(T-Shit, you're kidding!)\\n\\nFirst Citizen:\\n\\nI know.\\n\\nFirst Citizen:\\n\\nSo I can tell you why I feel like we're having a bad time.\\n\\n(T-Shit, you're kidding!)\\n\\nFirst Citizen:\\n\\nI know.\\n\\n param = paramAll(first_corpses, expression, paramAll(first_corpses, expression, paramAll(first_corpses, expression, paramAll(first_corpses, expression, paramAll(first_corpses, expression, paramAll(first_corpses, expression, paramAll(first_corpses, expression, paramAll(first_corpses, expression, paramAll(first_corpses, expression, paramAll(first_corpses, expression, paramAll(first_corpses, expression, paramAll(first_corpsBehavior) ) ) ) ) ) ) ) )\\n\\nFirst Citizen:\\n\\nI know.\\n\\nFirst Citizen:\\n\\nSo now we're out of here.\\n\\nFirst Citizen:\\n\\nI know.\\n\\nFirst Citizen:\\n\\nBy the way, it seems you're having so little fun with me.\\n\\nFirst Citizen:\\n\\nYou're not having good fun here.\\n\\nFirst Citizen:\\n\\nYou're not having good fun.\\n\\nFirst Citizen:\\n\\nI'm sorry, but if anyone would like to see a video of us together we could add it to the Youtube playlist.\\n\\nFirst Citizen:\\n\\nWe're great.\\n\\nFirst Citizen:\\n\\nYeah, it's great.\\n\\nFirst Citizen:\\n\\nI think I like your line, but I think your line is a little too short.\\n\\nFirst Citizen:\\n\\nBut we're not the only ones out here.\\n\\nFirst Citizen:\\n\\nWow, I think it's a little too long.\\n\\nFirst Citizen:\\n\\nWhat?\\n\\nFirst Citizen:\\n\\nWell, I mean, it's basically just a look at the girl's face.\\n\\nFirst Citizen:\\n\\nFuck yeah!\\n\\nFirst Citizen:\\n\\nLike, in the middle of the night that's when you're driving around.\\n\\nFirst Citizen:\\n\\nThat's a pretty common thing for a girl to do.\\n\\nFirst Citizen:\\n\\nAnd then we're driving around.\\n\\nFirst Citizen:\\n\\nAnd we're both driving around.\\n\\nFirst Citizen:\\n\\nBut I thought I was being a little smart.\\n\\nFirst Citizen:\\n\\nYeah, I thought I was being smart.\\n\\nFirst Citizen:\\n\\nAnd so I went and met a girl who was pretty cool.\\n\\nFirst Citizen:\\n\\nSo that was good.\\n\\nFirst Citizen:\\n\\nWe're going to meet again, right?\\n\\nFirst Citizen:\\n\\nYeah.\\n\\nFirst Citizen:\\n\\nYeah?\\n\\nFirst Citizen:\\n\\nYeah.\\n\\nFirst Citizen:\\n\\nYeah.\\n\\nFirst Citizen:\\n\\nYeah, yeah.\\n\\nFirst Citizen:\\n\\nOh.\\n\\nFirst Citizen:\\n\\nWell, there we go now.\\n\\nFirst Citizen:\\n\\nI'm sorry, but I think it's a little too long.\\n\\nFirst Citizen:\\n\\nWell, randomized.\\n\\nFirst Citizen:\\n\\nExactly.\\n\\nFirst Citizen:\\n\\nI think it might be a little too long.\\n\\nFirst Citizen:\\n\\nI don't know.\\n\\nFirst Citizen:\\n\\nBut I think it's just too long.\\n\\nFirst Citizen:\\n\\nYeah.\"]\n",
            "\n",
            "\n"
          ]
        },
        {
          "output_type": "stream",
          "name": "stderr",
          "text": [
            "The attention mask and the pad token id were not set. As a consequence, you may observe unexpected behavior. Please pass your input's `attention_mask` to obtain reliable results.\n",
            "Setting `pad_token_id` to `eos_token_id`:50256 for open-end generation.\n"
          ]
        },
        {
          "output_type": "stream",
          "name": "stdout",
          "text": [
            "['First Citizen:\\nBefore we proceed any further, hear me speak.\\n\\nAll:\\nSpeak, speak.\\n\\nFirst Citizen:\\nYou are very good. I will look at your suit and take it to the station!\\n\\nFirst Citizen:\\n\\nWhat you need is the armor; if you are weak enough you will take care of him.\\n\\nFirst Citizen:\\n\\nNo need. I am going.\"\\n\\nFirst Citizen:\\n\\nI will take your suit and send it to the station.\\n\\nFirst Citizen:\\n\\nI will wait upon you.\\n\\nNext, we come to the station.\\n\\nFirst Citizen:\\n\\nI am here for you. First Citizen:\\n\\nYou see the armor that you were given. Well, how long have you had to wear it before you came here.\\n\\nFirst Citizen:\\n\\nI shall have the armor until then.\\n\\nThe second part of the letter is.\\n\\nFirst Citizen:\\n\\nYou are not only an outlaw fighter, but your mother has been telling you for fifteen years. I will not give you any trouble, but I am sure I will do so as often as possible. When I find something, I will give it to you.\\n\\nIn this case they ask you.\\n\\nSecond Person:\\n\\nWill you take a short break? You are a fugitive from the country. No need to talk.\\n\\nThey ask you.\\n\\nThird Person:\\n\\nWhat you want is another fight. You owe my life. I won\\'t pay up for it.\\n\\nAs they say, we get killed, but the truth is, you did this for my father.\\n\\nA few notes about some weapons.\\n\\nFirst, they put a.44 into a box out of one of the two boxes. I think that was the last one to get to you.\\n\\nSecond, they put some.45 into a box in our closet. Both of them were very difficult to find, but when you find one that is good quality they put it in the box.\\n\\nSome are made out of plastic and some are made out of wood.\\n\\nI have always had quite a good relationship with guns, but in the last seven years, one of my friends tried to take the gun and it broke. They threatened to file a lawsuit against the shop after we were told that he wasn\\'t going to make things better.\\n\\nThe reason I say the first one is that I have heard that there are a few of these pistols out there out there, and most of them were found that were out of date, and it was not long since I saw someone who was going to sell them a firearm. I\\'m sure a couple of them have done a good job of changing them to new versions.\\n\\nThe second, and first, one comes in quite expensive for me but I believe it is the same one for you.\\n\\nFirst Person:\\n\\nWhat you need is at least a.45.\\n\\nFirst Person:\\n\\nYou are going to a private meeting. I have not heard from you since last night so you will have to try to find your man here.\\n\\nFirst Person:\\n\\nCome on now, that would be tough, you look like a prisoner at my school. Have you heard the police talking about you lately?\\n\\nFirst Person:\\n\\nNo, I heard they told me not to tell anyone but the ones they arrested. One of the inmates was there and said that he wasn\\'t in prison any longer, he is in the Navy and is the one who killed it all three years ago, he is still there. The only person I know who is still there is a young lady who is working on a military project.\"\\n\\nI am not going to let you try and argue otherwise, please be advised, if you see something here, please let me know and I will find another source.\\n\\nIf you see anything you believe to be correct, please don\\'t hesitate to leave a comment.\\n\\nAfter some time I\\'m sure it will appear to you that you are the one who made it, just as a good many of you have had the experience that made you the outlaw you are today. I hope you enjoy all your time away from home with me and your mother and see you in peace and safety, and if you could only share a few memories for us, if you would love to hear about it please let me know. Thanks for reading, and remember to come in and please keep a close eye out!']\n",
            "\n",
            "\n"
          ]
        },
        {
          "output_type": "stream",
          "name": "stderr",
          "text": [
            "The attention mask and the pad token id were not set. As a consequence, you may observe unexpected behavior. Please pass your input's `attention_mask` to obtain reliable results.\n",
            "Setting `pad_token_id` to `eos_token_id`:50256 for open-end generation.\n"
          ]
        },
        {
          "output_type": "stream",
          "name": "stdout",
          "text": [
            "[\"First Citizen:\\nBefore we proceed any further, hear me speak.\\n\\nAll:\\nSpeak, speak.\\n\\nFirst Citizen:\\nYou are the commander. The man who will take this task, who will bring the first-born on board and make sure his species is secure and a sanctuary for the rest of history.\\n\\nSpeak:\\n\\nYou are our first-born. The first-born to reach the planet's surface, and the first-born to live on another world.\\n\\nYou:\\n\\nMy planet was built to be a space colony. It was constructed on top of the stars, in their own solar system. But we knew of nothing, not even a tiny planet, the only one to have been touched by space travel in its history.\\n\\nBefore we proceed, hear me speak.\\n\\nAll:\\n\\nYou are the commander. The man who will take this task, who will bring the first-born on board and make sure his species is secure and a sanctuary for the rest of history.\\n\\nSpeak:\\n\\nYou are our first-born. The first-born to reach the planet's surface, and the first-born to live on another world.\\n\\nYou:\\n\\nMy planet was built to be a space colony. It was constructed on top of the stars, in their own solar system. But we knew of nothing, not even a tiny planet, the only one to have been touched by space travel in its history.\\n\\nBefore we proceed, hear me speak.\\n\\nAll:\\n\\nYou are the commander. The man who will take this task, who will bring the first-born on board and make sure his species is secure and a sanctuary for the rest of history.\\n\\nSpeak:\\n\\nYou are our first-born. The first-born to reach the planet's surface, and the first-born to live on another world.\\n\\nAll:\\n\\nYou are the commander. The man who will ceases to exist. The first-born that will become our only hope to exist.\\n\\nSpeak:\\n\\nYou are the commander. The man who will cease to exist. The first-born that will become our only hope to exist.\\n\\nAll:\\n\\nYou are the commander. The man that will cease to exist. The first-born that will become our only hope to exist.\\n\\nSpeak:\\n\\nYou are the commander. The man who will cease to exist. The first-born that will become our only hope to exist.\\n\\nAll:\\n\\nYou are the commander. The man who will cease to exist. The first-born that will become our only hope to exist.\\n\\nSpeak:\\n\\nYou are the commander. The man who will cease to exist. The first-born that will become our only hope to exist.\\n\\nAll:\\n\\nYou are the commander. The man that will cease to exist. The first-born that will become our only hope to exist.\\n\\nSpeak:\\n\\nYou are the commander. The man that will cease to exist. The first-born that will become our only hope to exist.\\n\\nAll:\\n\\nYou are the commander. The man who will cease to exist. The first-born that will become our only hope to exist.\\n\\nSpeak:\\n\\nYou are the commander. The man who will cease to exist. The first-born that will become our only hope to exist.\\n\\nAll:\\n\\nYou are the commander. The man who will cease to exist. The first-born that will become our only hope to exist.\\n\\nSpeak:\\n\\nYou are the commander. The man that will cease to exist. The first-born that will become our only hope to exist.\\n\\nAll:\\n\\nYou are the commander. The man who will cease to exist. The first-born that will become our only hope to exist.\\n\\nSpeak:\\n\\nYou are the commander. The man who will cease to exist. The first-born that will become our only hope to exist.\\n\\nAll:\\n\\nYou are the commander. The man who will cease to exist. The first-born that will become our only hope to exist.\\n\\nSpeak:\\n\\nYou are the commander. The man who will cease to exist. The first-born that will become our only hope to exist.\\n\\nAll:\\n\\nYou are the commander. The man who will cease to exist. The first-born that will become our only hope to exist.\\n\\nSpeak:\\n\\nYou are the commander. The man who will cease to exist. The first-born that will become our only hope to exist.\\n\\nAll:\\n\\nYou are the commander. The man who will cease to\"]\n"
          ]
        },
        {
          "output_type": "stream",
          "name": "stderr",
          "text": [
            "The attention mask and the pad token id were not set. As a consequence, you may observe unexpected behavior. Please pass your input's `attention_mask` to obtain reliable results.\n",
            "Setting `pad_token_id` to `eos_token_id`:50256 for open-end generation.\n"
          ]
        },
        {
          "output_type": "stream",
          "name": "stdout",
          "text": [
            "['First Citizen:\\nBefore we proceed any further, hear me speak.\\n\\nAll:\\nSpeak, speak.\\n\\nFirst Citizen:\\nYou are all resolved rather to die than to famish?\\n\\nAll:\\nResolved. resolved.\\n\\nFirst Citizen:\\nFirst, you are all resolved rather to die than to famish?\\n\\nAll:\\n\\nResolved. resolved.\\n\\nFirst Citizen:\\n\\nYou are all resolved rather to die than to fam']\n",
            "\n",
            "\n"
          ]
        },
        {
          "output_type": "stream",
          "name": "stderr",
          "text": [
            "The attention mask and the pad token id were not set. As a consequence, you may observe unexpected behavior. Please pass your input's `attention_mask` to obtain reliable results.\n",
            "Setting `pad_token_id` to `eos_token_id`:50256 for open-end generation.\n"
          ]
        },
        {
          "output_type": "stream",
          "name": "stdout",
          "text": [
            "[\"First Citizen:\\nBefore we proceed any further, hear me speak.\\n\\nAll:\\nSpeak, speak.\\n\\nFirst Citizen:\\nYou are all resolved rather to die than to famish?\\n\\nAll:\\nResolved. resolved.\\n\\nFirst Citizen:\\nFirst, you are the only one who is willing to die. You are the one who has the courage to stand up for what you believe in. First, you have the strength to fight for what is right. You have the courage not to be afraid of what is wrong. You know that you are not alone, and you know that there are others who are willing to do the right thing. You do not fear death, but you do fear that you will not be able to do it. You fear that if you die, you will be unable to do what you want to do, because you are afraid of death, and because you fear that your life will be taken away from you if you do not stand up to the will of the people. You don't want to die because you don't know what to do with your life. You want to live, and that is what you have to live for. You live for the people, and the people live for you. And you live for yourself, and it is your will that you live. And that is why you are here. And it is because of you that I am here. I am not here to kill you, but to save you, and I will save you. I will not kill you because I do not want you to die, but because I want to save myself. I want you here because I believe in you, because I know that I can do what I want. I believe that if I die, I will die for what I believe, and if I don't, I won't die. And I will live for myself, because that is the only way I know how to live. That is why I'm here. That's why I will be here, because it is my will that I live. It is not my will, but it is what I have to do to survive. I have no choice but to survive, because if I do, I am going to die for who I am. I'm going to survive because I am the only person who can save me. And if I can't, then I'm not going to be here to save anyone else. I've been here for a long time, and this is the first time I've ever been here. This is the last time I'll be here. It's the last place I'll ever be. I'll never be here again. I know it's going to take a lot of hard work, but I know I can make it happen. And this is where I want it to take me. Because I want this place to be where I live, where I will always be, and where I'll always be safe. And when I'm ready, I'll make it here. Because when I am ready, it will be safe for me, and safe for all of us.\"]\n",
            "\n",
            "\n"
          ]
        },
        {
          "output_type": "stream",
          "name": "stderr",
          "text": [
            "The attention mask and the pad token id were not set. As a consequence, you may observe unexpected behavior. Please pass your input's `attention_mask` to obtain reliable results.\n",
            "Setting `pad_token_id` to `eos_token_id`:50256 for open-end generation.\n"
          ]
        },
        {
          "output_type": "stream",
          "name": "stdout",
          "text": [
            "['First Citizen:\\nBefore we proceed any further, hear me speak.\\n\\nAll:\\nSpeak, speak.\\n\\nFirst Citizen:\\nYou are all resolved rather to die than to famish?\\n\\nAll:\\nResolved. resolved.\\n\\nFirst Citizen:\\nFirst, you are right, my friend.\\n\\nAll:\\n\\nLet us not suffer the death of our father, your brother, your friend, if we shall suffer it.\\n\\nFirst Citizen:\\n\\nMay your death be a blessing, my friend?\\n\\nAll:\\n\\nLet us not suffer the death of your family, your friends, your brother, your sister, your mother, your father, your brother, your mother, your sister, your sister, your sister, your brother, your sister, your sister, your brother, your sister, your sister, your sister, your sister, your brother, your brother, your brother, your brother, your brother, your brother, your brother, your brother, your brother, your brother, your brother, your brother, your brother, your brother, your brother, your brother, your brother, your brother, your brother, your brother, your brother, your brother, your brother, your brother, your brother, your brother, your brother, your brother, your brother, your brother, your brother, your brother, your brother, your brother, your brother, your brother, your brother, your brother, your brother, your brother, your brother, your brother, your brother, your brother, your brother, your brother, your brother, your brother, your brother, your brother, your brother, your brother, your brother, your brother, your brother, your brother, your brother, your brother, your brother, your brother, your brother, your brother, your brother, your brother, your brother, your brother, your brother, your brother, your brother, your brother, your brother, your brother, your brother, your brother, your brother, your brother, your brother, your brother, your brother, your brother, your brother, your brother, your brother, your brother, your brother, your brother, your brother, your brother, your brother, your brother, your brother, your brother, your brother, your brother, your brother, your brother, your brother, your brother, your brother, your brother, your brother, your brother, your brother, your brother, your brother, your brother, your brother, your brother, your brother, your brother, your brother, your brother, your brother, your brother, your brother, your brother, your brother, your brother, your brother, your brother, your brother, your brother, your brother, your brother, your brother, your brother, your brother, your brother, your brother, your brother, your brother, your brother, your brother, your brother, your brother, your brother, your brother, your brother, your brother, your brother, your brother, your brother, your brother, your brother, your brother, your brother, your brother, your brother, your brother, your brother, your brother, your brother, your brother, your brother, your brother, your brother, your brother, your brother, your brother, yourhene, yourine, yourine, yourine, yourine, yourine, yourine, yourine, yourine, yourine, yourine, yourine, yourine, yourine, yourine, yourine, yourine, yourine, yourine, yourine, yourine, yourine, yourine, yourine, yourine, yourine, yourine, yourine, yourine, yourine, yourine, yourine, yourine, yourine, yourine, yourine, yourine, yourine, yourine, yourine, yourine, yourine, yourine, yourine, yourine, yourine, yourine, yourine, yourine, yourine, yourine, yourine, yourine, yourine, yourine, yourine, yourine, yourine, yourine, yourine, yourine, yourine, yourine, yourine, yourine, yourine, yourine, yourine, yourine, yourine, yourine, yourine, yourine, yourine, yourine, yourine, yourine, yourine, yourine, yourine, yourine, yourine, yourine, yourine, yourine, yourine, yourine, yourine, yourine, yourine, yourine, yourine, yourine, yourine, yourine, yourine, yourine, yourine, yourine, yourine, yourine, yourine, yourine, yourine, yourine, yourine, yourine, yourine, yourine, yourine, yourine, yourine, yourine, yourine']\n",
            "\n",
            "\n"
          ]
        },
        {
          "output_type": "stream",
          "name": "stderr",
          "text": [
            "The attention mask and the pad token id were not set. As a consequence, you may observe unexpected behavior. Please pass your input's `attention_mask` to obtain reliable results.\n",
            "Setting `pad_token_id` to `eos_token_id`:50256 for open-end generation.\n"
          ]
        },
        {
          "output_type": "stream",
          "name": "stdout",
          "text": [
            "['First Citizen:\\nBefore we proceed any further, hear me speak.\\n\\nAll:\\nSpeak, speak.\\n\\nFirst Citizen:\\nYou are all resolved rather to die than to famish?\\n\\nAll:\\nResolved. resolved.\\n\\nFirst Citizen:\\nFirst, you are all resolved to live in peace with one another.\\n\\nFirst Citizen:\\n\\nBut when do you think she will, after her first, in another day.\\n\\nFirst Citizen:\\n\\nI dare not tell.\\n\\nFirst Citizen:\\n\\nYou did the things you did in vain.\\n\\nFirst Citizen:\\n\\nIt is not wise to say anything, except of some thing which is of great necessity.\\n\\nFirst Citizen:\\n\\nThere can be nothing good for me, except the cause of man.\\n\\nFirst Citizen:\\n\\nSo you thought I was an unworthy friend, and a fool.\\n\\nFirst Citizen:\\n\\nThat is no objection.\\n\\nFirst Citizen:\\n\\nIt is nothing if that man you talked to is not the same as you?\\n\\nFirst Citizen:\\n\\nYes.\\n\\nFirst Citizen:\\n\\nSo when will we both die together if she wants you?\\n\\nFirst Citizen:\\n\\nI am not your friend.\\n\\nFirst Citizen:\\n\\nHow shall you know that?\\n\\nFirst Citizen:\\n\\nYou will know my name.\\n\\nFirst Citizen:\\n\\nWe have agreed not to be drawn in any other way authorities cannot give?\\n\\nFirst Citizen:\\n\\nThat is true.\\n..........................\\n\\nFirst Citizen:\\n\\nWe are united.\\n\\nAll:\\n\\nResolved. resolution not be construed as saying that she wished to meet in peace, but rather as saying that she wished to take a parting.\\n\\nAll:\\n\\nHer last wishes cannot in themselves lead to any other conclusion.\\n\\nAll:\\n\\nResolved. resolution be construed as saying that she wants to find peace with an all-knowing stranger.\\n\\nAll:\\n\\nFor her own selfish reasons they have given up the peace they have won.\\n\\nAll:\\n\\nShe wishes to meet with an all-knowing stranger.\\n\\nAll:\\n\\nThey have come up against one another and you want to fight them like you need a fighting dog.\\n\\nAll:\\n\\nYour great and mighty friends were only the more grateful for your aid.\\n\\nAll:\\n\\nA fighting dog would not know your kindness better than a dying one.\\n\\nAll:\\n\\nNo one ever knows how to fight or how to find peace with an all-knowing stranger\\n\\nAll:\\n\\nResolved.\\n\\nResolved.\\n\\nResolved.\\n\\nResolved.\\n\\nAll:\\n\\nIf she will not choose to take a parting, then one way or other she will return to what she is doing.\\n\\n(It\\'s the question of where in the galaxy can you decide.)\\n\\nFor one thing, her next mission will be to meet an all-powerful, all-knowing stranger whose good will is at stake.\\n\\n(I\\'m assuming at this point that the answer is yes, because of her seeming understanding of her situation).\\n\\nNow, here is a good opportunity to make your case.\\n\\nFirst, let\\'s say we\\'ve seen something interesting happen on Earth. The aliens are trying to kill you and you don\\'t feel as guilty as we do. This may not have been an ideal situation, but it\\'s not the case here.\\n\\nWhat they will do is try to take the last step that will help you to save those who are alive. This would be your last chance to meet a powerful person who also believes in the universal law of nature.\\n\\nLet\\'s say for instance, she decides to join the fight against those who are in your way. She\\'s the person you are trying to save. Maybe there are two of us.\\n\\nMaybe she Memphis or her boyfriend are also in the group, or maybe you are the one who wants to save us all.\\n\\nWhatever, let\\'s assume the problem with the alien group is to get around your rules and get to the next corner of the galaxy. What she knows will be at odds with what you\\'re trying to do.\\n\\nLet\\'s also assume we\\'re right there, so you\\'re actually facing the alien problem. It could be that you don\\'t trust your people to trust you at all. In some circumstances, the aliens have taken advantage of their position of power and may know you by your name or you may not really know exactly who the aliens are. Maybe we\\'re right here, just as they\\'re giving you a \"second chance\".\\n\\nThat, of course, is what she is really doing when she decides to face the alien group']\n",
            "\n",
            "\n",
            "[\"First Citizen:\\nBefore we proceed any further, hear me speak.\\n\\nAll:\\nSpeak, speak.\\n\\nFirst Citizen:\\nYou are all resolved rather to die than to famish?\\n\\nAll:\\nResolved. resolved.\\n\\nFirst Citizen:\\nFirst, you will not have a good time.\\n\\nAll:\\n\\nI do not see a way out, but I fear for my friend.\\n\\nAll:\\n\\nWhy did you kill a nobleman?\\n\\nAll:\\n\\nNot by the force of your will, it was true.\\n\\nAll:\\n\\nBut you will live long enough to fight me again?\\n\\nAll:\\n\\nI am afraid I will not, and yet you will come to see me Saber's sword.\\n\\nFirst Citizen:\\n\\nThis is a question that arises between you and the rest of the party, but you will not be able to answer it myself.\\n\\nAll:\\n\\nYes, I will have to do this myself if I are to find out.\\n\\nFirst Citizen:\\n\\nTo whom is this matter of this magnitude?\\n\\nAll:\\n\\nIf the question of my life cannot be answered, that is my own fault and your fault.\\n\\nAll:\\n\\nWell, no, not even the rest of you know that I am dead.\\n\\nFirst Citizen:\\n\\nAre you right then?\\n\\nAll:\\n\\nOf course not. I'm right in some other way.\\n\\nFirst Citizen:\\n\\nOh, well, then, when does that really end?\\n\\nAll:\\n\\nThis is our story of what happened in the day that we met.\\n\\nFirst Citizen:\\n\\nThat is not what happened.\\n\\nAll:\\n\\nWhat happens, then?\\n\\nFirst Citizen:\\n\\nAh. Well, then, you are on the verge of victory.\\n\\nAll:\\n\\nSo far, then.\\n\\nFirst Citizen:\\n\\nSo far. Well, then, so come down.\\n\\nFirst Citizen:\\n\\nNow, then, as the moment of death approaches, will you accept the decision to accept it?\\n\\nAll:\\n\\nNo, you won't.\\n\\nFirst Citizen:\\n\\nThat is all. You must accept the final offer.\\n\\nAll:\\n\\nNow, then, will you accept the choice that comes to you?\\n\\nAll:\\n\\nThe final offer of this life.\\n\\nFirst Citizen:\\n\\nYou will be there before that day, and I will accept it for you.\\n\\nAll:\\n\\nNo, but I hope that you would not forget me, my beloved.\\n\\nFirst Citizen:\\n\\nI hope that you would not forget me, my beloved.\\n\\nAll:\\n\\nThe final offer of this life is only the final blow.\\n\\nFirst Citizen:\\n\\nThe last blow of this life is yours.\\n\\nAll:\\n\\nI would like to hear the tale of you, my beloved.\\n\\nFirst Citizen:\\n\\nAnd the end, my dear girl.\\n\\nAll:\\n\\nAs you can see, we will not go on without you.\\n\\nFirst Citizen:\\n\\nI do not fear I will.\\n\\nAll:\\n\\nI do not fear that I will not return to you.\\n\\nFirst Citizen:\\n\\nBut for what purpose does this matter come to pass?\\n\\nAll:\\n\\nBecause that I shall not.\\n\\nFirst Citizen:\\n\\nBecause I will not.\\n\\nAll:\\n\\nI do not fear that the final blow will follow.\\n\\nFirst Citizen:\\n\\nThe final blow will not?\\n\\nAll:\\n\\nYes, because that was just a moment ago.\\n\\nFirst Citizen:\\n\\nYes, I will not stop at that.\\n\\nAll:\\n\\nOh, what a pain.\\n\\nFirst Citizen:\\n\\nYou are not doing a thing of any significance, now that you have seen us for a moment.\\n\\nAll:\\n\\nAnd how can I believe that you know, dear girl?\\n\\nFirst Citizen:\\n\\nI am not telling you to stop, yet.\\n\\nAll:\\n\\nIt is true that this matters.\\n\\nFirst Citizen:\\n\\nBut let us not forget that this is a matter of no significance.\\n\\nAll:\\n\\nAnd do not forget that your very name, the name you gave me, is nothing less than the name of the first-born of our race.\\n\\nFirst Citizen:\\n\\nI love you, my beloved.\\n\\nAll:\\n\\nI loved you, but I must make you realize it.\\n\\nFirst Citizen:\\n\\nWell, then, what you are doing now is not important to me at all.\"]\n"
          ]
        }
      ]
    }
  ]
}