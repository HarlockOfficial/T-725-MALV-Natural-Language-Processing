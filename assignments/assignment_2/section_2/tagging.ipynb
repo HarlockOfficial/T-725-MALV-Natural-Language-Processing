{
 "cells": [
  {
   "cell_type": "code",
   "execution_count": 101,
   "id": "initial_id",
   "metadata": {
    "collapsed": true,
    "ExecuteTime": {
     "end_time": "2023-10-10T12:03:40.630637516Z",
     "start_time": "2023-10-10T12:03:40.184618851Z"
    }
   },
   "outputs": [
    {
     "name": "stderr",
     "output_type": "stream",
     "text": [
      "[nltk_data] Downloading package punkt to\n",
      "[nltk_data]     /home/administrator/nltk_data...\n",
      "[nltk_data]   Package punkt is already up-to-date!\n",
      "[nltk_data] Downloading package treebank to\n",
      "[nltk_data]     /home/administrator/nltk_data...\n",
      "[nltk_data]   Package treebank is already up-to-date!\n"
     ]
    },
    {
     "data": {
      "text/plain": "True"
     },
     "execution_count": 101,
     "metadata": {},
     "output_type": "execute_result"
    }
   ],
   "source": [
    "import nltk\n",
    "from nltk.corpus import treebank\n",
    "\n",
    "nltk.download('punkt')\n",
    "nltk.download('treebank')"
   ]
  },
  {
   "cell_type": "code",
   "execution_count": 102,
   "outputs": [],
   "source": [
    "tagged_sents = treebank.tagged_sents()\n",
    "training_set = tagged_sents[:3500]\n",
    "test_set = tagged_sents[3500:]"
   ],
   "metadata": {
    "collapsed": false,
    "ExecuteTime": {
     "end_time": "2023-10-10T12:03:41.190975041Z",
     "start_time": "2023-10-10T12:03:40.227810727Z"
    }
   },
   "id": "70978bdb813f3a6e"
  },
  {
   "cell_type": "code",
   "execution_count": 103,
   "outputs": [
    {
     "name": "stdout",
     "output_type": "stream",
     "text": [
      "Length of training set:  3500\n",
      "Length of test set:  414\n",
      "First sentence in training set:  [('Pierre', 'NNP'), ('Vinken', 'NNP'), (',', ','), ('61', 'CD'), ('years', 'NNS'), ('old', 'JJ'), (',', ','), ('will', 'MD'), ('join', 'VB'), ('the', 'DT'), ('board', 'NN'), ('as', 'IN'), ('a', 'DT'), ('nonexecutive', 'JJ'), ('director', 'NN'), ('Nov.', 'NNP'), ('29', 'CD'), ('.', '.')]\n",
      "First sentence in test set:  [('About', 'IN'), ('30', 'CD'), ('%', 'NN'), ('of', 'IN'), ('Ratners', 'NNP'), (\"'s\", 'POS'), ('profit', 'NN'), ('already', 'RB'), ('is', 'VBZ'), ('derived', 'VBN'), ('*-1', '-NONE-'), ('from', 'IN'), ('the', 'DT'), ('U.S.', 'NNP'), ('.', '.')]\n"
     ]
    }
   ],
   "source": [
    "print(\"Length of training set: \", len(training_set))\n",
    "print(\"Length of test set: \", len(test_set))\n",
    "\n",
    "print(\"First sentence in training set: \", training_set[0])\n",
    "print(\"First sentence in test set: \", test_set[0])"
   ],
   "metadata": {
    "collapsed": false,
    "ExecuteTime": {
     "end_time": "2023-10-10T12:03:41.199952177Z",
     "start_time": "2023-10-10T12:03:41.191378646Z"
    }
   },
   "id": "a38119514d797359"
  },
  {
   "cell_type": "code",
   "execution_count": 104,
   "outputs": [],
   "source": [
    "def train_tagger(model, train_set, backoff=None):\n",
    "    return model(train_set, backoff=backoff)"
   ],
   "metadata": {
    "collapsed": false,
    "ExecuteTime": {
     "end_time": "2023-10-10T12:03:41.212746509Z",
     "start_time": "2023-10-10T12:03:41.200355223Z"
    }
   },
   "id": "779e2db0348bac99"
  },
  {
   "cell_type": "code",
   "execution_count": 105,
   "outputs": [],
   "source": [
    "def train_many_taggers(models: list, train_set, backoff: list):\n",
    "    out = []\n",
    "    for model, backoff in zip(models, backoff):\n",
    "        out.append(train_tagger(model, train_set, backoff=backoff))\n",
    "    return tuple(out)"
   ],
   "metadata": {
    "collapsed": false,
    "ExecuteTime": {
     "end_time": "2023-10-10T12:03:41.328241525Z",
     "start_time": "2023-10-10T12:03:41.227768494Z"
    }
   },
   "id": "9e13523838f028cd"
  },
  {
   "cell_type": "code",
   "execution_count": 106,
   "outputs": [],
   "source": [
    "def evaluate_tagger(tagger, test_set):\n",
    "    return tagger.accuracy(test_set)"
   ],
   "metadata": {
    "collapsed": false,
    "ExecuteTime": {
     "end_time": "2023-10-10T12:03:41.358599939Z",
     "start_time": "2023-10-10T12:03:41.239761766Z"
    }
   },
   "id": "45ad7f03378affbc"
  },
  {
   "cell_type": "code",
   "execution_count": 107,
   "outputs": [],
   "source": [
    "def evaluate_many_taggers(taggers: list, test_set):\n",
    "    out = []\n",
    "    for tagger in taggers:\n",
    "        out.append(evaluate_tagger(tagger, test_set))\n",
    "    return tuple(out)"
   ],
   "metadata": {
    "collapsed": false,
    "ExecuteTime": {
     "end_time": "2023-10-10T12:03:41.359485969Z",
     "start_time": "2023-10-10T12:03:41.244939592Z"
    }
   },
   "id": "949cc410d45a5c67"
  },
  {
   "cell_type": "code",
   "execution_count": 108,
   "outputs": [],
   "source": [
    "affix_tagger, unigram_tagger, bigram_tagger, trigram_tagger = train_many_taggers(\n",
    "    [nltk.AffixTagger, nltk.UnigramTagger, nltk.BigramTagger, nltk.TrigramTagger],\n",
    "    training_set,\n",
    "    [None, None, None, None])"
   ],
   "metadata": {
    "collapsed": false,
    "ExecuteTime": {
     "end_time": "2023-10-10T12:03:44.997495Z",
     "start_time": "2023-10-10T12:03:41.267270348Z"
    }
   },
   "id": "274944878a75c16e"
  },
  {
   "cell_type": "code",
   "execution_count": 109,
   "outputs": [],
   "source": [
    "affix_accuracy, unigram_accuracy, bigram_accuracy, trigram_accuracy = evaluate_many_taggers(\n",
    "    [affix_tagger, unigram_tagger, bigram_tagger, trigram_tagger],\n",
    "    test_set)"
   ],
   "metadata": {
    "collapsed": false,
    "ExecuteTime": {
     "end_time": "2023-10-10T12:03:45.632289250Z",
     "start_time": "2023-10-10T12:03:44.997991121Z"
    }
   },
   "id": "2adeb825bc28efae"
  },
  {
   "cell_type": "code",
   "execution_count": 110,
   "outputs": [],
   "source": [
    "def print_evaluation_result(name, accuracy):\n",
    "    print(f\"{name} accuracy: {accuracy}\")"
   ],
   "metadata": {
    "collapsed": false,
    "ExecuteTime": {
     "end_time": "2023-10-10T12:03:45.640333957Z",
     "start_time": "2023-10-10T12:03:45.610901263Z"
    }
   },
   "id": "5e8e8107b4f91487"
  },
  {
   "cell_type": "code",
   "execution_count": 111,
   "outputs": [],
   "source": [
    "def print_many_evaluation_results(names: list, accuracies: list):\n",
    "    for name, accuracy in zip(names, accuracies):\n",
    "        print_evaluation_result(name, accuracy)"
   ],
   "metadata": {
    "collapsed": false,
    "ExecuteTime": {
     "end_time": "2023-10-10T12:03:45.666781819Z",
     "start_time": "2023-10-10T12:03:45.646017966Z"
    }
   },
   "id": "a0a2ef40fbd24e9d"
  },
  {
   "cell_type": "code",
   "execution_count": 112,
   "outputs": [
    {
     "name": "stdout",
     "output_type": "stream",
     "text": [
      "Affix accuracy: 0.2756317165262852\n",
      "Unigram accuracy: 0.8607803272340013\n",
      "Bigram accuracy: 0.13466937748087907\n",
      "Trigram accuracy: 0.08064672281924679\n"
     ]
    }
   ],
   "source": [
    "print_many_evaluation_results(\n",
    "    [\"Affix\", \"Unigram\", \"Bigram\", \"Trigram\"],\n",
    "    [affix_accuracy, unigram_accuracy, bigram_accuracy, trigram_accuracy])"
   ],
   "metadata": {
    "collapsed": false,
    "ExecuteTime": {
     "end_time": "2023-10-10T12:03:45.714885433Z",
     "start_time": "2023-10-10T12:03:45.662780987Z"
    }
   },
   "id": "43dbf1d807d73f3d"
  },
  {
   "cell_type": "code",
   "execution_count": 113,
   "outputs": [],
   "source": [
    "new_unigram_tagger = train_tagger(nltk.UnigramTagger, training_set, backoff=affix_tagger)\n",
    "new_bigram_tagger = train_tagger(nltk.BigramTagger, training_set, backoff=new_unigram_tagger)\n",
    "new_trigram_tagger = train_tagger(nltk.TrigramTagger, training_set, backoff=new_bigram_tagger)"
   ],
   "metadata": {
    "collapsed": false,
    "ExecuteTime": {
     "end_time": "2023-10-10T12:03:47.429517686Z",
     "start_time": "2023-10-10T12:03:45.698675552Z"
    }
   },
   "id": "10a82fdb9fc2c862"
  },
  {
   "cell_type": "code",
   "execution_count": 114,
   "outputs": [],
   "source": [
    "new_unigram_accuracy, new_bigram_accuracy, new_trigram_accuracy = evaluate_many_taggers(\n",
    "    [new_unigram_tagger, new_bigram_tagger, new_trigram_tagger],\n",
    "    test_set)"
   ],
   "metadata": {
    "collapsed": false,
    "ExecuteTime": {
     "end_time": "2023-10-10T12:03:47.434559114Z",
     "start_time": "2023-10-10T12:03:47.332319612Z"
    }
   },
   "id": "e8fad1be34d821ab"
  },
  {
   "cell_type": "code",
   "execution_count": 115,
   "outputs": [
    {
     "name": "stdout",
     "output_type": "stream",
     "text": [
      "New Unigram accuracy: 0.8985380966211637\n",
      "New Bigram accuracy: 0.9080259463646045\n",
      "New Trigram accuracy: 0.9071546132249008\n"
     ]
    }
   ],
   "source": [
    "print_many_evaluation_results(\n",
    "    [\"New Unigram\", \"New Bigram\", \"New Trigram\"],\n",
    "    [new_unigram_accuracy, new_bigram_accuracy, new_trigram_accuracy])"
   ],
   "metadata": {
    "collapsed": false,
    "ExecuteTime": {
     "end_time": "2023-10-10T12:03:47.435008557Z",
     "start_time": "2023-10-10T12:03:47.335140375Z"
    }
   },
   "id": "ae4c1b4a2f75d0a7"
  },
  {
   "cell_type": "markdown",
   "source": [
    "# The tagging accuracy for the individual taggers without a backoff model is (much) lower than the tagging accuracy for the corresponding taggers when using a backoff model. Explain why this is the case. In particular explain this for the case of the BigramTagger.\n",
    "\n",
    "The backoff model increases the precision, if the bigram does not know the answer or is not \"sure\", it uses the backoff model which was itself really acccuate, therefore the accuracy increases."
   ],
   "metadata": {
    "collapsed": false
   },
   "id": "c401ee65dbdc915"
  },
  {
   "cell_type": "code",
   "execution_count": 116,
   "outputs": [],
   "source": [
    "off_the_shelf_tagger_tokenization_result = []\n",
    "for x in treebank.sents()[3500:]:\n",
    "    off_the_shelf_tagger_tokenization_result.append(nltk.pos_tag(x))"
   ],
   "metadata": {
    "collapsed": false,
    "ExecuteTime": {
     "end_time": "2023-10-10T12:03:47.435543250Z",
     "start_time": "2023-10-10T12:03:47.340916062Z"
    }
   },
   "id": "aa03d2e678ee1b4a"
  },
  {
   "cell_type": "code",
   "execution_count": 124,
   "outputs": [],
   "source": [
    "def evaluator(results: list[list[tuple[str, str]]], expected: list[list[tuple[str, str]]]):\n",
    "    mismatching_tags = 0\n",
    "    total_tags = 0\n",
    "    for result, expected in zip(results, expected):\n",
    "        for result_token, expected_token in zip(result, expected):\n",
    "            total_tags += 1\n",
    "            if result_token[0] != expected_token[0]:\n",
    "                raise ValueError(\"Token mismatch\")\n",
    "            if result_token[1] != expected_token[1]:\n",
    "                mismatching_tags += 1\n",
    "    return (total_tags - mismatching_tags) / total_tags"
   ],
   "metadata": {
    "collapsed": false,
    "ExecuteTime": {
     "end_time": "2023-10-10T12:07:29.961967293Z",
     "start_time": "2023-10-10T12:07:29.941526268Z"
    }
   },
   "id": "6598964b880f1ffd"
  },
  {
   "cell_type": "code",
   "execution_count": 125,
   "outputs": [
    {
     "name": "stdout",
     "output_type": "stream",
     "text": [
      "Off the shelf tagger accuracy: 0.8914706167102333\n"
     ]
    }
   ],
   "source": [
    "off_the_shelf_evaluation = evaluator(off_the_shelf_tagger_tokenization_result, test_set)\n",
    "print(f\"Off the shelf tagger accuracy: {off_the_shelf_evaluation}\")"
   ],
   "metadata": {
    "collapsed": false,
    "ExecuteTime": {
     "end_time": "2023-10-10T12:07:31.814137148Z",
     "start_time": "2023-10-10T12:07:31.692566816Z"
    }
   },
   "id": "f9942ccd1e71e9d8"
  }
 ],
 "metadata": {
  "kernelspec": {
   "display_name": "Python 3",
   "language": "python",
   "name": "python3"
  },
  "language_info": {
   "codemirror_mode": {
    "name": "ipython",
    "version": 2
   },
   "file_extension": ".py",
   "mimetype": "text/x-python",
   "name": "python",
   "nbconvert_exporter": "python",
   "pygments_lexer": "ipython2",
   "version": "2.7.6"
  }
 },
 "nbformat": 4,
 "nbformat_minor": 5
}
