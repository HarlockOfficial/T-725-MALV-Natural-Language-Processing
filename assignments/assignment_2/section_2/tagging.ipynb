{
 "cells": [
  {
   "cell_type": "code",
   "execution_count": 1,
   "id": "initial_id",
   "metadata": {
    "collapsed": true,
    "ExecuteTime": {
     "end_time": "2023-10-03T12:16:39.958009428Z",
     "start_time": "2023-10-03T12:16:38.881914554Z"
    }
   },
   "outputs": [
    {
     "name": "stderr",
     "output_type": "stream",
     "text": [
      "[nltk_data] Downloading package punkt to\n",
      "[nltk_data]     /home/administrator/nltk_data...\n",
      "[nltk_data]   Package punkt is already up-to-date!\n",
      "[nltk_data] Downloading package treebank to\n",
      "[nltk_data]     /home/administrator/nltk_data...\n",
      "[nltk_data]   Unzipping corpora/treebank.zip.\n"
     ]
    },
    {
     "data": {
      "text/plain": "True"
     },
     "execution_count": 1,
     "metadata": {},
     "output_type": "execute_result"
    }
   ],
   "source": [
    "import nltk\n",
    "from nltk.corpus import treebank\n",
    "\n",
    "nltk.download('punkt')\n",
    "nltk.download('treebank')"
   ]
  },
  {
   "cell_type": "code",
   "execution_count": 4,
   "outputs": [],
   "source": [
    "tagged_sents = treebank.tagged_sents()\n",
    "training_set = tagged_sents[:3500]\n",
    "test_set = tagged_sents[3500:]"
   ],
   "metadata": {
    "collapsed": false,
    "ExecuteTime": {
     "end_time": "2023-10-03T12:18:40.793214493Z",
     "start_time": "2023-10-03T12:18:39.908963048Z"
    }
   },
   "id": "70978bdb813f3a6e"
  },
  {
   "cell_type": "code",
   "execution_count": 5,
   "outputs": [
    {
     "name": "stdout",
     "output_type": "stream",
     "text": [
      "Length of training set:  3500\n",
      "Length of test set:  414\n",
      "First sentence in training set:  [('Pierre', 'NNP'), ('Vinken', 'NNP'), (',', ','), ('61', 'CD'), ('years', 'NNS'), ('old', 'JJ'), (',', ','), ('will', 'MD'), ('join', 'VB'), ('the', 'DT'), ('board', 'NN'), ('as', 'IN'), ('a', 'DT'), ('nonexecutive', 'JJ'), ('director', 'NN'), ('Nov.', 'NNP'), ('29', 'CD'), ('.', '.')]\n",
      "First sentence in test set:  [('About', 'IN'), ('30', 'CD'), ('%', 'NN'), ('of', 'IN'), ('Ratners', 'NNP'), (\"'s\", 'POS'), ('profit', 'NN'), ('already', 'RB'), ('is', 'VBZ'), ('derived', 'VBN'), ('*-1', '-NONE-'), ('from', 'IN'), ('the', 'DT'), ('U.S.', 'NNP'), ('.', '.')]\n"
     ]
    }
   ],
   "source": [
    "print(\"Length of training set: \", len(training_set))\n",
    "print(\"Length of test set: \", len(test_set))\n",
    "\n",
    "print(\"First sentence in training set: \", training_set[0])\n",
    "print(\"First sentence in test set: \", test_set[0])"
   ],
   "metadata": {
    "collapsed": false,
    "ExecuteTime": {
     "end_time": "2023-10-03T12:19:19.729433763Z",
     "start_time": "2023-10-03T12:19:19.684537746Z"
    }
   },
   "id": "a38119514d797359"
  },
  {
   "cell_type": "code",
   "execution_count": 11,
   "outputs": [],
   "source": [
    "def train_tagger(model, train_set, backoff=None):\n",
    "    return model(train_set, backoff=backoff)"
   ],
   "metadata": {
    "collapsed": false,
    "ExecuteTime": {
     "end_time": "2023-10-03T12:24:57.010762986Z",
     "start_time": "2023-10-03T12:24:56.972830831Z"
    }
   },
   "id": "779e2db0348bac99"
  },
  {
   "cell_type": "code",
   "execution_count": 19,
   "outputs": [],
   "source": [
    "def train_many_taggers(models: list, train_set, backoff: list):\n",
    "    out = []\n",
    "    for model, backoff in zip(models, backoff):\n",
    "        out.append(train_tagger(model, train_set, backoff=backoff))\n",
    "    return tuple(out)"
   ],
   "metadata": {
    "collapsed": false,
    "ExecuteTime": {
     "end_time": "2023-10-03T12:29:11.982102154Z",
     "start_time": "2023-10-03T12:29:11.963786484Z"
    }
   },
   "id": "9e13523838f028cd"
  },
  {
   "cell_type": "code",
   "execution_count": 24,
   "outputs": [],
   "source": [
    "def evaluate_tagger(tagger, test_set):\n",
    "    return tagger.accuracy(test_set)"
   ],
   "metadata": {
    "collapsed": false,
    "ExecuteTime": {
     "end_time": "2023-10-03T12:30:40.005285459Z",
     "start_time": "2023-10-03T12:30:39.985153287Z"
    }
   },
   "id": "45ad7f03378affbc"
  },
  {
   "cell_type": "code",
   "execution_count": 22,
   "outputs": [],
   "source": [
    "def evaluate_many_taggers(taggers: list, test_set):\n",
    "    out = []\n",
    "    for tagger in taggers:\n",
    "        out.append(evaluate_tagger(tagger, test_set))\n",
    "    return tuple(out)"
   ],
   "metadata": {
    "collapsed": false,
    "ExecuteTime": {
     "end_time": "2023-10-03T12:29:56.526243105Z",
     "start_time": "2023-10-03T12:29:56.512433891Z"
    }
   },
   "id": "949cc410d45a5c67"
  },
  {
   "cell_type": "code",
   "execution_count": 20,
   "outputs": [],
   "source": [
    "affix_tagger, unigram_tagger, bigram_tagger, trigram_tagger = train_many_taggers(\n",
    "    [nltk.AffixTagger, nltk.UnigramTagger, nltk.BigramTagger, nltk.TrigramTagger],\n",
    "    training_set,\n",
    "    [None, None, None, None])"
   ],
   "metadata": {
    "collapsed": false,
    "ExecuteTime": {
     "end_time": "2023-10-03T12:29:33.229332786Z",
     "start_time": "2023-10-03T12:29:28.902665577Z"
    }
   },
   "id": "274944878a75c16e"
  },
  {
   "cell_type": "code",
   "execution_count": 25,
   "outputs": [],
   "source": [
    "affix_accuracy, unigram_accuracy, bigram_accuracy, trigram_accuracy = evaluate_many_taggers(\n",
    "    [affix_tagger, unigram_tagger, bigram_tagger, trigram_tagger],\n",
    "    test_set)"
   ],
   "metadata": {
    "collapsed": false,
    "ExecuteTime": {
     "end_time": "2023-10-03T12:30:44.159816004Z",
     "start_time": "2023-10-03T12:30:43.258703992Z"
    }
   },
   "id": "2adeb825bc28efae"
  },
  {
   "cell_type": "code",
   "execution_count": 27,
   "outputs": [],
   "source": [
    "def print_evaluation_result(name, accuracy):\n",
    "    print(f\"{name} accuracy: {accuracy}\")"
   ],
   "metadata": {
    "collapsed": false,
    "ExecuteTime": {
     "end_time": "2023-10-03T12:31:11.803728624Z",
     "start_time": "2023-10-03T12:31:11.772204116Z"
    }
   },
   "id": "5e8e8107b4f91487"
  },
  {
   "cell_type": "code",
   "execution_count": 28,
   "outputs": [],
   "source": [
    "def print_many_evaluation_results(names: list, accuracies: list):\n",
    "    for name, accuracy in zip(names, accuracies):\n",
    "        print_evaluation_result(name, accuracy)"
   ],
   "metadata": {
    "collapsed": false,
    "ExecuteTime": {
     "end_time": "2023-10-03T12:31:24.243252660Z",
     "start_time": "2023-10-03T12:31:24.222298745Z"
    }
   },
   "id": "a0a2ef40fbd24e9d"
  },
  {
   "cell_type": "code",
   "execution_count": 29,
   "outputs": [
    {
     "name": "stdout",
     "output_type": "stream",
     "text": [
      "Affix accuracy: 0.2756317165262852\n",
      "Unigram accuracy: 0.8607803272340013\n",
      "Bigram accuracy: 0.13466937748087907\n",
      "Trigram accuracy: 0.08064672281924679\n"
     ]
    }
   ],
   "source": [
    "print_many_evaluation_results(\n",
    "    [\"Affix\", \"Unigram\", \"Bigram\", \"Trigram\"],\n",
    "    [affix_accuracy, unigram_accuracy, bigram_accuracy, trigram_accuracy])"
   ],
   "metadata": {
    "collapsed": false,
    "ExecuteTime": {
     "end_time": "2023-10-03T12:31:35.723533276Z",
     "start_time": "2023-10-03T12:31:35.690487703Z"
    }
   },
   "id": "43dbf1d807d73f3d"
  },
  {
   "cell_type": "code",
   "execution_count": 30,
   "outputs": [],
   "source": [
    "new_unigram_tagger, new_bigram_tagger, new_trigram_tagger = train_many_taggers(\n",
    "    [nltk.UnigramTagger, nltk.BigramTagger, nltk.TrigramTagger],\n",
    "    training_set,\n",
    "    [affix_tagger, unigram_tagger, bigram_tagger])"
   ],
   "metadata": {
    "collapsed": false,
    "ExecuteTime": {
     "end_time": "2023-10-03T12:32:26.381487854Z",
     "start_time": "2023-10-03T12:32:22.704433960Z"
    }
   },
   "id": "10a82fdb9fc2c862"
  },
  {
   "cell_type": "code",
   "execution_count": 31,
   "outputs": [],
   "source": [
    "new_unigram_accuracy, new_bigram_accuracy, new_trigram_accuracy = evaluate_many_taggers(\n",
    "    [new_unigram_tagger, new_bigram_tagger, new_trigram_tagger],\n",
    "    test_set)"
   ],
   "metadata": {
    "collapsed": false,
    "ExecuteTime": {
     "end_time": "2023-10-03T12:32:36.159993158Z",
     "start_time": "2023-10-03T12:32:35.436566819Z"
    }
   },
   "id": "e8fad1be34d821ab"
  },
  {
   "cell_type": "code",
   "execution_count": 32,
   "outputs": [
    {
     "name": "stdout",
     "output_type": "stream",
     "text": [
      "New Unigram accuracy: 0.8985380966211637\n",
      "New Bigram accuracy: 0.8701713621841417\n",
      "New Trigram accuracy: 0.13525026624068157\n"
     ]
    }
   ],
   "source": [
    "print_many_evaluation_results(\n",
    "    [\"New Unigram\", \"New Bigram\", \"New Trigram\"],\n",
    "    [new_unigram_accuracy, new_bigram_accuracy, new_trigram_accuracy])"
   ],
   "metadata": {
    "collapsed": false,
    "ExecuteTime": {
     "end_time": "2023-10-03T12:32:44.880092050Z",
     "start_time": "2023-10-03T12:32:44.829037144Z"
    }
   },
   "id": "ae4c1b4a2f75d0a7"
  },
  {
   "cell_type": "markdown",
   "source": [
    "# The tagging accuracy for the individual taggers without a backoff model is (much) lower than the tagging accuracy for the corresponding taggers when using a backoff model. Explain why this is the case. In particular explain this for the case of the BigramTagger.\n",
    "\n",
    "TODO answer here"
   ],
   "metadata": {
    "collapsed": false
   },
   "id": "c401ee65dbdc915"
  },
  {
   "cell_type": "code",
   "execution_count": 43,
   "outputs": [],
   "source": [
    "off_the_shelf_tagger_tokenization_result = nltk.pos_tag_sents([[y[0] for y in x] for x in test_set])"
   ],
   "metadata": {
    "collapsed": false,
    "ExecuteTime": {
     "end_time": "2023-10-03T12:56:19.124368842Z",
     "start_time": "2023-10-03T12:56:18.534455516Z"
    }
   },
   "id": "aa03d2e678ee1b4a"
  },
  {
   "cell_type": "code",
   "execution_count": 44,
   "outputs": [],
   "source": [
    "def evaluator(results: list[list[tuple[str, str]]], expected: list[list[tuple[str, str]]]):\n",
    "    mismatching_tags = 0\n",
    "    total_tags = 0\n",
    "    for result, expected in zip(results, expected):\n",
    "        for result_token, expected_token in zip(result, expected):\n",
    "            total_tags += 1\n",
    "            if result_token[0] != expected_token[0]:\n",
    "                raise ValueError(\"Token mismatch\")\n",
    "            if result_token[1] != expected_token[1]:\n",
    "                mismatching_tags += 1\n",
    "    return mismatching_tags / total_tags"
   ],
   "metadata": {
    "collapsed": false,
    "ExecuteTime": {
     "end_time": "2023-10-03T12:56:21.582262212Z",
     "start_time": "2023-10-03T12:56:21.547502437Z"
    }
   },
   "id": "6598964b880f1ffd"
  },
  {
   "cell_type": "code",
   "execution_count": 45,
   "outputs": [
    {
     "data": {
      "text/plain": "0.10852938328976668"
     },
     "execution_count": 45,
     "metadata": {},
     "output_type": "execute_result"
    }
   ],
   "source": [
    "evaluator(off_the_shelf_tagger_tokenization_result, test_set)"
   ],
   "metadata": {
    "collapsed": false,
    "ExecuteTime": {
     "end_time": "2023-10-03T12:56:24.157393592Z",
     "start_time": "2023-10-03T12:56:24.067192641Z"
    }
   },
   "id": "f9942ccd1e71e9d8"
  }
 ],
 "metadata": {
  "kernelspec": {
   "display_name": "Python 3",
   "language": "python",
   "name": "python3"
  },
  "language_info": {
   "codemirror_mode": {
    "name": "ipython",
    "version": 2
   },
   "file_extension": ".py",
   "mimetype": "text/x-python",
   "name": "python",
   "nbconvert_exporter": "python",
   "pygments_lexer": "ipython2",
   "version": "2.7.6"
  }
 },
 "nbformat": 4,
 "nbformat_minor": 5
}
