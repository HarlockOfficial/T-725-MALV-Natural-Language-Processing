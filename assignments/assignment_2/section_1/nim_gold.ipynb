{
 "cells": [
  {
   "cell_type": "code",
   "execution_count": 16,
   "id": "initial_id",
   "metadata": {
    "collapsed": true,
    "ExecuteTime": {
     "end_time": "2023-10-03T12:12:26.767593225Z",
     "start_time": "2023-10-03T12:12:26.608506919Z"
    }
   },
   "outputs": [],
   "source": [
    "import nltk"
   ]
  },
  {
   "cell_type": "code",
   "execution_count": 17,
   "outputs": [],
   "source": [
    "def get_reader(filename: str = None) -> nltk.corpus.reader.tagged.TaggedCorpusReader:\n",
    "    if filename is not None:\n",
    "        return nltk.corpus.reader.tagged.TaggedCorpusReader('input/', filename)\n",
    "    return nltk.corpus.reader.tagged.TaggedCorpusReader('input/', r'*\\.sent')"
   ],
   "metadata": {
    "collapsed": false,
    "ExecuteTime": {
     "end_time": "2023-10-03T12:12:26.773061736Z",
     "start_time": "2023-10-03T12:12:26.620832522Z"
    }
   },
   "id": "4d24d61d4b1773ca"
  },
  {
   "cell_type": "code",
   "execution_count": 18,
   "outputs": [],
   "source": [
    "def read_corpus_from_file(reader: nltk.corpus.reader.tagged.TaggedCorpusReader = None) -> list[list[tuple[str, str]]]:\n",
    "    if reader is None:\n",
    "        reader = get_reader()\n",
    "    return reader.tagged_sents()"
   ],
   "metadata": {
    "collapsed": false,
    "ExecuteTime": {
     "end_time": "2023-10-03T12:12:26.799786867Z",
     "start_time": "2023-10-03T12:12:26.670713787Z"
    }
   },
   "id": "c402320c73d0bb98"
  },
  {
   "cell_type": "code",
   "execution_count": 19,
   "outputs": [],
   "source": [
    "mim_gold_reader = get_reader('MIM-GOLD.sent')\n",
    "mim_gold_sents = read_corpus_from_file(mim_gold_reader)"
   ],
   "metadata": {
    "collapsed": false,
    "ExecuteTime": {
     "end_time": "2023-10-03T12:12:26.801317156Z",
     "start_time": "2023-10-03T12:12:26.672317865Z"
    }
   },
   "id": "f905ff82a2d56b56"
  },
  {
   "cell_type": "code",
   "execution_count": 20,
   "outputs": [
    {
     "name": "stdout",
     "output_type": "stream",
     "text": [
      "Number of sentences in MIM-GOLD:  58412\n",
      "Tokens of sentence 100:  [('Púttað', 'SÞGHEN'), ('á', 'AF'), ('Listatúni', 'NHEÞ-S'), ('í', 'AF'), ('dag', 'NKEO'), (',', 'PK'), ('laugardag', 'NKEO'), (',', 'PK'), ('kl.', 'KS'), ('10.30', 'TA'), ('.', 'PL')]\n"
     ]
    }
   ],
   "source": [
    "print(\"Number of sentences in MIM-GOLD: \", len(mim_gold_sents))\n",
    "print(\"Tokens of sentence 100: \", mim_gold_sents[99])"
   ],
   "metadata": {
    "collapsed": false,
    "ExecuteTime": {
     "end_time": "2023-10-03T12:12:29.308710547Z",
     "start_time": "2023-10-03T12:12:26.752437636Z"
    }
   },
   "id": "8851df866a593343"
  },
  {
   "cell_type": "code",
   "execution_count": 21,
   "outputs": [
    {
     "name": "stdout",
     "output_type": "stream",
     "text": [
      "Total number of tokens in MIM-GOLD:  1000218\n",
      "Total number of types in MIM-GOLD:  1000218\n",
      "Total number of unique tokens in MIM-GOLD:  106529\n",
      "Total number of unique types in MIM-GOLD:  558\n"
     ]
    }
   ],
   "source": [
    "total_tokens = []\n",
    "total_types = []\n",
    "for sent in mim_gold_sents:\n",
    "    for token, tag in sent:\n",
    "        total_tokens.append(token)\n",
    "        total_types.append(tag)\n",
    "\n",
    "unique_tokens = list(set(total_tokens))\n",
    "unique_types = list(set(total_types))\n",
    "\n",
    "print(\"Total number of tokens in MIM-GOLD: \", len(total_tokens))\n",
    "print(\"Total number of types in MIM-GOLD: \", len(total_types))\n",
    "print(\"Total number of unique tokens in MIM-GOLD: \", len(unique_tokens))\n",
    "print(\"Total number of unique types in MIM-GOLD: \", len(unique_types))"
   ],
   "metadata": {
    "collapsed": false,
    "ExecuteTime": {
     "end_time": "2023-10-03T12:12:29.824998955Z",
     "start_time": "2023-10-03T12:12:29.391869933Z"
    }
   },
   "id": "c555644e610bf313"
  },
  {
   "cell_type": "code",
   "execution_count": 22,
   "outputs": [],
   "source": [
    "tokens_frequency_distribution = nltk.FreqDist(total_tokens)\n",
    "types_frequency_distribution = nltk.FreqDist(total_types)"
   ],
   "metadata": {
    "collapsed": false,
    "ExecuteTime": {
     "end_time": "2023-10-03T12:12:30.832924845Z",
     "start_time": "2023-10-03T12:12:29.848617390Z"
    }
   },
   "id": "b1d1e1a91cbda7b9"
  },
  {
   "cell_type": "code",
   "execution_count": 23,
   "outputs": [
    {
     "name": "stdout",
     "output_type": "stream",
     "text": [
      "Most common tokens:  [('.', 49066), ('að', 35749), ('og', 33813), (',', 29990), ('í', 27622), ('á', 21833), ('er', 16604), ('sem', 15199), ('til', 9888), ('um', 8799)]\n",
      "Most common types:  [('AF', 109899), ('AA', 74151), ('C', 68278), ('PL', 53212), ('SFG3EN', 36289), ('PK', 30647), ('SNG', 26345), ('TA', 22992), ('SFG3EÞ', 19773), ('CN', 19540), ('SÞGHEN', 17190), ('PA', 13043), ('N----S', 12783), ('CT', 12664), ('SFG3FN', 12294), ('NKEN', 11411), ('NVEN', 11171), ('NVEO', 11123), ('NHEÞ', 10979), ('NVEÞ', 10281)]\n"
     ]
    }
   ],
   "source": [
    "print(\"Most common tokens: \", tokens_frequency_distribution.most_common(10))\n",
    "print(\"Most common types: \", types_frequency_distribution.most_common(20))"
   ],
   "metadata": {
    "collapsed": false,
    "ExecuteTime": {
     "end_time": "2023-10-03T12:12:30.852130178Z",
     "start_time": "2023-10-03T12:12:30.767859481Z"
    }
   },
   "id": "e729348fcbdd0f31"
  },
  {
   "cell_type": "code",
   "execution_count": 24,
   "outputs": [],
   "source": [
    "types_bigrams = nltk.bigrams(total_types)\n",
    "conditional_frequency_distribution = nltk.probability.ConditionalFreqDist(types_bigrams)"
   ],
   "metadata": {
    "collapsed": false,
    "ExecuteTime": {
     "end_time": "2023-10-03T12:12:31.964296824Z",
     "start_time": "2023-10-03T12:12:30.932666691Z"
    }
   },
   "id": "2d59e4bdbd2cd62"
  },
  {
   "cell_type": "code",
   "execution_count": 27,
   "outputs": [
    {
     "name": "stdout",
     "output_type": "stream",
     "text": [
      "Most common following AF:  [('NVEÞ', 5714), ('NHEÞ', 5361), ('NKEÞ', 4222), ('CN', 3903), ('NVEO', 3556), ('NKEO', 3347), ('NHEO', 3046), ('NHEÞG', 2867), ('NVEÞG', 2723), ('FPHEÞ', 2703)]\n"
     ]
    }
   ],
   "source": [
    "most_common_following_af = conditional_frequency_distribution['AF'].most_common(10)\n",
    "print(\"Most common following AF: \", most_common_following_af)"
   ],
   "metadata": {
    "collapsed": false,
    "ExecuteTime": {
     "end_time": "2023-10-03T12:13:49.335247854Z",
     "start_time": "2023-10-03T12:13:49.306753178Z"
    }
   },
   "id": "663ec665337bb797"
  }
 ],
 "metadata": {
  "kernelspec": {
   "display_name": "Python 3",
   "language": "python",
   "name": "python3"
  },
  "language_info": {
   "codemirror_mode": {
    "name": "ipython",
    "version": 2
   },
   "file_extension": ".py",
   "mimetype": "text/x-python",
   "name": "python",
   "nbconvert_exporter": "python",
   "pygments_lexer": "ipython2",
   "version": "2.7.6"
  }
 },
 "nbformat": 4,
 "nbformat_minor": 5
}
